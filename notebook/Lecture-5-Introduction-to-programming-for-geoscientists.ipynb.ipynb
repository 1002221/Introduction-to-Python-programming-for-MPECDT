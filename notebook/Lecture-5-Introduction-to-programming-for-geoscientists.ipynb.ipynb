{
 "metadata": {
  "name": ""
 },
 "nbformat": 3,
 "nbformat_minor": 0,
 "worksheets": [
  {
   "cells": [
    {
     "cell_type": "heading",
     "level": 1,
     "metadata": {},
     "source": [
      "Introduction to programming for Geoscientists (through Python)"
     ]
    },
    {
     "cell_type": "markdown",
     "metadata": {},
     "source": [
      "#Lecture 5: Files, strings, and dictionaries\n",
      "##Gerard J. Gorman (g.gorman@imperial.ac.uk) http://www.imperial.ac.uk/people/g.gorman\n",
      "\n",
      "Learning objectives: You will learn how to:\n",
      "1. Read data in from a file\n",
      "2. Parse strings to extract specific data of interest.\n",
      "3. Use dictionaries to index data with using any type of key."
     ]
    },
    {
     "cell_type": "markdown",
     "metadata": {},
     "source": [
      "##Reading data from a plain text file\n",
      "We can read text from a [text file](http://en.wikipedia.org/wiki/Text_file) into strings in a program. This is a common (and simple) way for a program to get input data. The basic recipe is:"
     ]
    },
    {
     "cell_type": "raw",
     "metadata": {},
     "source": [
      "# Open text file\n",
      "infile = open(\"myfile.dat\", \"r\")\n",
      "\n",
      "# Read next line:\n",
      "line = infile.readline()\n",
      "\n",
      "# Read the lines in a loop one by one:\n",
      "for line in infile:\n",
      "    <process line>\n",
      "\n",
      "# Load all lines into a list of strings:\n",
      "lines = infile.readlines()\n",
      "for line in lines:\n",
      "    <process line>"
     ]
    },
    {
     "cell_type": "markdown",
     "metadata": {},
     "source": [
      "Lets look at an example. You will have downloaded the file data1.txt in the data folder along with these lecture notes. The files has a column of numbers:"
     ]
    },
    {
     "cell_type": "raw",
     "metadata": {},
     "source": [
      "21.8\n",
      "18.1\n",
      "19\n",
      "23\n",
      "26\n",
      "17.8"
     ]
    },
    {
     "cell_type": "markdown",
     "metadata": {},
     "source": [
      "The goal is to read this file and calculate the mean:"
     ]
    },
    {
     "cell_type": "code",
     "collapsed": false,
     "input": [
      "# Open data file\n",
      "infile = open(\"data/data1.txt\", \"r\")\n",
      "\n",
      "# Initialise values\n",
      "mean = 0\n",
      "n=0\n",
      "\n",
      "# Loop to perform sum\n",
      "for number in infile:\n",
      "    number = float(number)\n",
      "    mean = mean + number\n",
      "    n += 1\n",
      "    \n",
      "# It is good practice to close a file when you are finished. \n",
      "infile.close()\n",
      "\n",
      "\n",
      "mean = mean/n\n",
      "print mean"
     ],
     "language": "python",
     "metadata": {},
     "outputs": []
    }
   ],
   "metadata": {}
  }
 ]
}