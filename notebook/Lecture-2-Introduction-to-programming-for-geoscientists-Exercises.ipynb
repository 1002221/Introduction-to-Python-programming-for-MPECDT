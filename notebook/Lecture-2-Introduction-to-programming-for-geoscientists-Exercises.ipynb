{
 "metadata": {
  "name": "Lecture-2-Introduction-to-programming-for-geoscientists-Exercises"
 },
 "nbformat": 3,
 "nbformat_minor": 0,
 "worksheets": [
  {
   "cells": [
    {
     "cell_type": "heading",
     "level": 1,
     "metadata": {},
     "source": [
      "Introduction to programming for Geoscientists (through Python)"
     ]
    },
    {
     "cell_type": "markdown",
     "metadata": {},
     "source": [
      "#Exercises for Lecture 2: Computing with basic language constructions\n",
      "##Gerard J. Gorman (g.gorman@imperial.ac.uk) http://www.imperial.ac.uk/people/g.gorman"
     ]
    },
    {
     "cell_type": "markdown",
     "metadata": {},
     "source": [
      "* **Values of boolean expressions**</br>\n",
      "Explain the outcome of each of the following boolean expressions:"
     ]
    },
    {
     "cell_type": "code",
     "collapsed": false,
     "input": [
      "C = 41\n",
      "\n",
      "C == 40\n",
      "C != 40 and C < 41\n",
      "C != 40 or C < 41\n",
      "not C == 40\n",
      "not C > 40\n",
      "C <= 41\n",
      "not False\n",
      "True and False\n",
      "False or True\n",
      "False or False or False\n",
      "True and True and False\n",
      "False == 0\n",
      "True == 0\n",
      "True == 1"
     ],
     "language": "python",
     "metadata": {},
     "outputs": []
    },
    {
     "cell_type": "markdown",
     "metadata": {},
     "source": [
      "* **Generate odd numbers**</br>\n",
      "Write a program that generates all odd numbers from 1 to *n*. Set *n* in the beginning of the program and use a while loop to compute the numbers. (Make sure that if *n* is an even number, the largest generated odd number is *n*-1.)."
     ]
    },
    {
     "cell_type": "markdown",
     "metadata": {},
     "source": [
      "* **Store odd numbers in a list**</br>\n",
      "Modify the program from the previous exercise to store the generated odd numbers in a list. Start with an empty list and use a while loop where you in each pass of the loop append a new element to the list. Finally, print the list elements to the screen."
     ]
    },
    {
     "cell_type": "markdown",
     "metadata": {},
     "source": [
      "* **Generate odd numbers by a list comprehension**</br>\n",
      "Solve the exercise above using a list comprehension (with *for* and *range*)."
     ]
    },
    {
     "cell_type": "markdown",
     "metadata": {},
     "source": [
      "* **Make a table of function values**</br>\n",
      "Write a program that prints a table with $t$ values in the first column and the corresponding $y(t) = v_0 t \u2212 0.5gt^2$ values in the second column.\n",
      "Use $n$ uniformly spaced $t$ values throughout the interval [0, $2v_0/g$]. Set $v0 = 1$, $g = 9.81$, and $n = 11$."
     ]
    },
    {
     "cell_type": "markdown",
     "metadata": {},
     "source": [
      "* **Store numbers in lists**</br>\n",
      "Modify the program from the previous exercise so that the $t$ and $y$ values are stored in two lists *t* and *y*. Thereafter, transverse the lists with a *for* loop and write out a nicely formatted table of *t* and *y* values (using either a *zip* or *range* construction)."
     ]
    }
   ],
   "metadata": {}
  }
 ]
}