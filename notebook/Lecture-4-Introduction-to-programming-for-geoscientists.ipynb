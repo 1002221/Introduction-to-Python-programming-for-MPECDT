{
 "metadata": {
  "name": ""
 },
 "nbformat": 3,
 "nbformat_minor": 0,
 "worksheets": [
  {
   "cells": [
    {
     "cell_type": "heading",
     "level": 1,
     "metadata": {},
     "source": [
      "Introduction to programming for Geoscientists (through Python)"
     ]
    },
    {
     "cell_type": "markdown",
     "metadata": {},
     "source": [
      "#Lecture 4: Array computing and curve plotting\n",
      "\n",
      "[Gerard J. Gorman](http://www.imperial.ac.uk/people/g.gorman) <g.gorman@imperial.ac.uk>\n",
      "\n",
      "Learning objectives: You will learn how to compute using arrays, *i.e.* vectorise code, and generate 2D graphs."
     ]
    },
    {
     "cell_type": "markdown",
     "metadata": {},
     "source": [
      "You have known **vectors** since high school mathematics, *e.g.*, point $(x,y)$ in the plane, point $(x,y,z)$ in space. In general, we can describe a vector $v$ as an $n$-tuple of numbers: $v=(v_0,\\ldots,v_{n-1})$. One way to store vectors in Python is by using *lists*: $v_i$ is stored as *v[i]*."
     ]
    },
    {
     "cell_type": "markdown",
     "metadata": {},
     "source": [
      "**Arrays** are a generalization of vectors where we can have multiple indices: $A_{i,j}$, $A_{i,j,k}$. In Python code this is represented as a nested list (see previous lecture), accessed as *A[i][j]*, *A[i][j][k]*.\n",
      "\n",
      "Example: table of numbers, one index for the row, one for the column\n",
      "$$\n",
      "\\left\\lbrack\\begin{array}{cccc}\n",
      "0 & 12 & -1 & 5\\\\\n",
      "-1 & -1 & -1 & 0\\\\\n",
      "11 & 5 & 5 & -2\n",
      "\\end{array}\\right\\rbrack\n",
      "\\hspace{1cm}\n",
      "A =\n",
      "\\left\\lbrack\\begin{array}{ccc}\n",
      "A_{0,0} & \\cdots &  A_{0,n-1}\\\\\n",
      "\\vdots & \\ddots &  \\vdots\\\\\n",
      "A_{m-1,0} & \\cdots & A_{m-1,n-1}\n",
      "\\end{array}\\right\\rbrack\n",
      "$$\n",
      "The number of indices in an array is the *rank* or *number of dimensions*. Using these terms, a vector can be described as a one-dimensional array, or rank 1 array.\n",
      "\n",
      "In practice, we use Numerical Python arrays instead of lists to represent mathematical arrays because it is **much** faster for large arrays."
     ]
    },
    {
     "cell_type": "markdown",
     "metadata": {},
     "source": [
      "Let's consider an example where we store $(x,y)$ points along a curve in Python lists and *Numerical Python* (*NumPy*) arrays:"
     ]
    },
    {
     "cell_type": "code",
     "collapsed": false,
     "input": [
      "# Sample function\n",
      "def f(x):\n",
      "    return x**3\n",
      "\n",
      "# Generate n points in [0,1]\n",
      "n = 5\n",
      "dx = 1.0/(n-1) # x spacing\n",
      "\n",
      "xlist = [i*dx for i in range(n)] # Python lists\n",
      "ylist = [f(x) for x in xlist]\n",
      "\n",
      "# Turn these Python lists into Numerical Python (NumPy) arrays:\n",
      "from numpy import *\n",
      "x2 = array(xlist)\n",
      "y2 = array(ylist)"
     ],
     "language": "python",
     "metadata": {},
     "outputs": [],
     "prompt_number": 51
    },
    {
     "cell_type": "markdown",
     "metadata": {},
     "source": [
      "Instead of first making lists with $x$ and $y = f (x)$ data, and then turning lists into arrays, we can make NumPy arrays\n",
      "directly:"
     ]
    },
    {
     "cell_type": "code",
     "collapsed": false,
     "input": [
      "n = 5                     # number of points\n",
      "x2 = linspace(0, 1, n)    # generates n points between 0 and 1\n",
      "y2 = zeros(n)             # n zeros (float data type by default)\n",
      "for i in xrange(n):     \n",
      "    y2[i] = f(x2[i])"
     ],
     "language": "python",
     "metadata": {},
     "outputs": [],
     "prompt_number": 52
    },
    {
     "cell_type": "markdown",
     "metadata": {},
     "source": [
      "*xrange* is similar to range but faster. Especially for large $n$ (*xrange* does not explicitly build a list of integers, xrange just lets you loop over the values).\n",
      "\n",
      "List comprehensions create lists, not arrays, but we can do:"
     ]
    },
    {
     "cell_type": "code",
     "collapsed": false,
     "input": [
      "y2 = array([f(xi) for xi in x2]) # list -> array"
     ],
     "language": "python",
     "metadata": {},
     "outputs": [],
     "prompt_number": 53
    },
    {
     "cell_type": "markdown",
     "metadata": {},
     "source": [
      "### When and where to use NumPy arrays\n",
      "\n",
      "* Python lists can hold any sequence of any Python objects, however, NumPy arrays can only hold objects of the same type.\n",
      "* Arrays are most efficient when the elements are of basic number types (*float*, *int*, *complex*).\n",
      "* In that case, arrays are stored efficiently in the computer's memory and we can compute very efficiently with the array elements.\n",
      "* Mathematical operations on whole arrays can be done without loops in Python. For example,"
     ]
    },
    {
     "cell_type": "code",
     "collapsed": false,
     "input": [
      "x = linspace(0, 2, 10001)\n",
      "y = zeros(10001)\n",
      "for i in xrange(len(x)):\n",
      "    y[i] = sin(x[i])"
     ],
     "language": "python",
     "metadata": {},
     "outputs": [],
     "prompt_number": 54
    },
    {
     "cell_type": "markdown",
     "metadata": {},
     "source": [
      "can be coded as"
     ]
    },
    {
     "cell_type": "code",
     "collapsed": false,
     "input": [
      "y = sin(x)"
     ],
     "language": "python",
     "metadata": {},
     "outputs": [],
     "prompt_number": 55
    },
    {
     "cell_type": "markdown",
     "metadata": {},
     "source": [
      "In the latter case the loop over all elements is now performed in a very efficient C function.\n",
      "\n",
      "Operations on whole arrays, instead of using Python *for*-loops, is called vectorization and is a very **convenient**, **efficient** and therefore important programming technique to master.\n",
      "\n",
      "Let's consider a simple vectorisation example: a loop to compute $x$ coordinates (*x2*) and $y=f(x)$ coordinates (*y2*) along a function curve:"
     ]
    },
    {
     "cell_type": "code",
     "collapsed": false,
     "input": [
      "x2 = linspace(0, 1, n)\n",
      "y2 = zeros(n)\n",
      "for i in xrange(n):\n",
      "    y2[i] = f(x2[i])"
     ],
     "language": "python",
     "metadata": {},
     "outputs": [],
     "prompt_number": 56
    },
    {
     "cell_type": "markdown",
     "metadata": {},
     "source": [
      "This computation can be replaced by:"
     ]
    },
    {
     "cell_type": "code",
     "collapsed": false,
     "input": [
      "x2 = linspace(0, 1, n)\n",
      "y2 = f(x2)"
     ],
     "language": "python",
     "metadata": {},
     "outputs": [],
     "prompt_number": 57
    },
    {
     "cell_type": "markdown",
     "metadata": {},
     "source": [
      "The advantage of this approach is:\n",
      "\n",
      "* There is no need to allocate space for y2 (via the NumPy *zeros* function).\n",
      "* There is no need for a loop.\n",
      "* It is *much* faster."
     ]
    },
    {
     "cell_type": "markdown",
     "metadata": {},
     "source": [
      "##How vectorised functions work\n",
      "Consider the function"
     ]
    },
    {
     "cell_type": "code",
     "collapsed": false,
     "input": [
      "def f(x):\n",
      "    return x**3"
     ],
     "language": "python",
     "metadata": {},
     "outputs": [],
     "prompt_number": 58
    },
    {
     "cell_type": "markdown",
     "metadata": {},
     "source": [
      "$f(x)$ is intended for a number $x$, *i.e.* a *scalar*. So what happens when we call *f(x2)*, where *x2* is an NumPy array? **The function simply evaluates $x^3$ for an array x**. NumPy supports arithmetic operations on arrays, which correspond to the equivalent operations on each element, *e.g.*:"
     ]
    },
    {
     "cell_type": "code",
     "collapsed": false,
     "input": [
      "x**3                # x[i]**3 forr all i\n",
      "cos(x)              # cos(x[i]) for all i\n",
      "x**3 + x*cos(x)     # x[i]**3 + x[i]*cos(x[i]) for all i\n",
      "x/3*exp(-x*0.5)     # x[i]/3*exp(-x[i]*0.5) for all i "
     ],
     "language": "python",
     "metadata": {},
     "outputs": [
      {
       "metadata": {},
       "output_type": "pyout",
       "prompt_number": 59,
       "text": [
        "array([  0.00000000e+00,   6.66600003e-05,   1.33306669e-04, ...,\n",
        "         2.45252956e-01,   2.45252960e-01,   2.45252961e-01])"
       ]
      }
     ],
     "prompt_number": 59
    },
    {
     "cell_type": "markdown",
     "metadata": {},
     "source": [
      "In each of these cases a highly optimised C function is actually called to evaluate the expression. In this example, the *cos* function called for an *array* is imported from *numpy* rathar than from the *math* module which only acts on scalars.\n",
      "\n",
      "Notes:\n",
      "\n",
      "* Functions that can operate on arrays are called **vectorized functions**.\n",
      "* Vectorization is the process of turning a non-vectorized expression/algorithm into a vectorized expression/algorithm.\n",
      "* Mathematical functions in Python automatically work for both scalar and array (vector) arguments, *i.e.* no vectorization is needed by the programmer.\n"
     ]
    },
    {
     "cell_type": "markdown",
     "metadata": {},
     "source": [
      "###Watch out for references Vs. copies of arrays!\n",
      "Consider this code:"
     ]
    },
    {
     "cell_type": "code",
     "collapsed": false,
     "input": [
      "a=x\n",
      "a[-1] = 42\n",
      "print x[-1]"
     ],
     "language": "python",
     "metadata": {},
     "outputs": [
      {
       "output_type": "stream",
       "stream": "stdout",
       "text": [
        "42.0\n"
       ]
      }
     ],
     "prompt_number": 60
    },
    {
     "cell_type": "markdown",
     "metadata": {},
     "source": [
      "Notice what happened here - we changed a value in *a* but the corresponding value in *x* was also changed! This is because *a* refers to the same array as *x*. If you really want a seperate copy of *x* then we have to make an explicit copy:"
     ]
    },
    {
     "cell_type": "code",
     "collapsed": false,
     "input": [
      "a = x.copy()"
     ],
     "language": "python",
     "metadata": {},
     "outputs": [],
     "prompt_number": 61
    },
    {
     "cell_type": "markdown",
     "metadata": {},
     "source": [
      "###Generalized array indexing\n",
      "We can select a slice of an array using *a[start:stop:inc]*, where the slice *start:stop:inc* implies a set of indices starting from *start*, up to *stop* in increments of *inc*. In fact, any integer list or array can be used to indicate a set of indices:"
     ]
    },
    {
     "cell_type": "code",
     "collapsed": false,
     "input": [
      "a = linspace(1, 8, 8)\n",
      "print a"
     ],
     "language": "python",
     "metadata": {},
     "outputs": [
      {
       "output_type": "stream",
       "stream": "stdout",
       "text": [
        "[ 1.  2.  3.  4.  5.  6.  7.  8.]\n"
       ]
      }
     ],
     "prompt_number": 62
    },
    {
     "cell_type": "code",
     "collapsed": false,
     "input": [
      "a[[1,6,7]] = 10 # i.e. set the elements with indicies 1,6, and 7 in the list to 10.\n",
      "print a"
     ],
     "language": "python",
     "metadata": {},
     "outputs": [
      {
       "output_type": "stream",
       "stream": "stdout",
       "text": [
        "[  1.  10.   3.   4.   5.   6.  10.  10.]\n"
       ]
      }
     ],
     "prompt_number": 63
    },
    {
     "cell_type": "code",
     "collapsed": false,
     "input": [
      "a[range(2,8,3)] = -2   # same as a[2:8:3] = -2\n",
      "print a"
     ],
     "language": "python",
     "metadata": {},
     "outputs": [
      {
       "output_type": "stream",
       "stream": "stdout",
       "text": [
        "[  1.  10.  -2.   4.   5.  -2.  10.  10.]\n"
       ]
      }
     ],
     "prompt_number": 64
    },
    {
     "cell_type": "markdown",
     "metadata": {},
     "source": [
      "Even boolean expressions can also be used to select part of an array(!)"
     ]
    },
    {
     "cell_type": "code",
     "collapsed": false,
     "input": [
      "print a[a < 0] # pick out all negative elements"
     ],
     "language": "python",
     "metadata": {},
     "outputs": [
      {
       "output_type": "stream",
       "stream": "stdout",
       "text": [
        "[-2. -2.]\n"
       ]
      }
     ],
     "prompt_number": 65
    },
    {
     "cell_type": "code",
     "collapsed": false,
     "input": [
      "a[a < 0] = a.max() # if a[i]<0, set a[i]=10\n",
      "print a"
     ],
     "language": "python",
     "metadata": {},
     "outputs": [
      {
       "output_type": "stream",
       "stream": "stdout",
       "text": [
        "[  1.  10.  10.   4.   5.  10.  10.  10.]\n"
       ]
      }
     ],
     "prompt_number": 66
    },
    {
     "cell_type": "markdown",
     "metadata": {},
     "source": [
      "##Plotting curves - the basics\n",
      "First of all, a little house keeping. There are quite a few ways of plotting graphs etc. in Python. Currently the best way is using [PyLab](http://wiki.scipy.org/PyLab). If you are someone who likes the details then please go to the [PyLab](http://wiki.scipy.org/PyLab) website and read. Secondly, because we are doing this within IPython NoteBook, and we do not want additional windows popping up all over the place, we execute this next line:"
     ]
    },
    {
     "cell_type": "code",
     "collapsed": false,
     "input": [
      "pylab inline"
     ],
     "language": "python",
     "metadata": {},
     "outputs": [
      {
       "output_type": "stream",
       "stream": "stdout",
       "text": [
        "\n",
        "Welcome to pylab, a matplotlib-based Python environment [backend: module://IPython.zmq.pylab.backend_inline].\n",
        "For more information, type 'help(pylab)'.\n"
       ]
      }
     ],
     "prompt_number": 1
    },
    {
     "cell_type": "markdown",
     "metadata": {},
     "source": [
      "Now, onwards and upwards...\n",
      "\n",
      "A curve $y = f(x)$ stored in the 1D NumPy arrays *x* and *y* can easily be plotted:"
     ]
    },
    {
     "cell_type": "code",
     "collapsed": false,
     "input": [
      "from pylab import *\n",
      "t = linspace(0, 3, 51)\n",
      "y = t**2*exp(-t**2)\n",
      "plot(t, y)\n",
      "show()"
     ],
     "language": "python",
     "metadata": {},
     "outputs": [
      {
       "metadata": {},
       "output_type": "display_data",
       "png": "[encoded data removed]",
       "text": [
        "<matplotlib.figure.Figure at 0x108695cd0>"
       ]
      }
     ],
     "prompt_number": 68
    },
    {
     "cell_type": "markdown",
     "metadata": {},
     "source": [
      "Plots also should have **labels** on the axis, a **title**, and sometimes a specific extent of the axis (perhaps you wish to easily compare two graphs side-by-side):"
     ]
    },
    {
     "cell_type": "code",
     "collapsed": false,
     "input": [
      "def f(t):\n",
      "    return t**2*exp(-t**2)\n",
      "\n",
      "t = linspace(0, 3, 51) # Generates 51 points between 0 and 3\n",
      "y = f(t)\n",
      "plot(t, y)\n",
      "\n",
      "xlabel('t')\n",
      "ylabel('y')\n",
      "legend('t^2*exp(-t^2)')\n",
      "axis([0, 3, -0.05, 0.6]) # specify the extent of the axes [tmin, tmax, ymin, ymax]\n",
      "\n",
      "title('My second PyLab graph')\n",
      "show()"
     ],
     "language": "python",
     "metadata": {},
     "outputs": [
      {
       "metadata": {},
       "output_type": "display_data",
       "png": "[encoded data removed]",
       "text": [
        "<matplotlib.figure.Figure at 0x107dd27d0>"
       ]
      }
     ],
     "prompt_number": 69
    },
    {
     "cell_type": "markdown",
     "metadata": {},
     "source": [
      "We can also plot several curves in one plot:"
     ]
    },
    {
     "cell_type": "code",
     "collapsed": false,
     "input": [
      "def f1(t):\n",
      "    return t**2*exp(-t**2)\n",
      "\n",
      "def f2(t):\n",
      "    return t**2*f1(t)\n",
      "\n",
      "t = linspace(0, 3, 51)\n",
      "y1 = f1(t)\n",
      "y2 = f2(t)\n",
      "\n",
      "# Matlab-style syntax:\n",
      "plots = plot(t, y1, t, y2)\n",
      "legend(plots, ('t^4*exp(-t^2)', 't^4*exp(-t^2)'), loc='best')\n",
      "xlabel('t')\n",
      "ylabel('y')\n",
      "title('Plotting two curves in the same plot')\n",
      "show()"
     ],
     "language": "python",
     "metadata": {},
     "outputs": [
      {
       "metadata": {},
       "output_type": "display_data",
       "png": "[encoded data removed]",
       "text": [
        "<matplotlib.figure.Figure at 0x109c211d0>"
       ]
      }
     ],
     "prompt_number": 70
    },
    {
     "cell_type": "markdown",
     "metadata": {},
     "source": [
      "When plotting multiple curves in the same plot, PyLab usually does a good job in making sure that the different lines actually look different. However, sometimes you need to take action yourself (*e.g.* if you need to print your graph out in black&white). To do this we can add an extra argument to the plot command where we specify what we want - *e.g.* \"r-\" means a *red line*, while \"bo\" means *blue circles*:"
     ]
    },
    {
     "cell_type": "code",
     "collapsed": false,
     "input": [
      "plot(t, y1, 'r-', t, y2, 'bo')\n",
      "show()"
     ],
     "language": "python",
     "metadata": {},
     "outputs": [
      {
       "metadata": {},
       "output_type": "display_data",
       "png": "[encoded data removed]",
       "text": [
        "<matplotlib.figure.Figure at 0x107db0110>"
       ]
      }
     ],
     "prompt_number": 71
    },
    {
     "cell_type": "markdown",
     "metadata": {},
     "source": [
      "For further examples check out the [PyLab website](http://scipy.org/PyLab)."
     ]
    },
    {
     "cell_type": "markdown",
     "metadata": {},
     "source": [
      "##2D arrays\n",
      "When we have a table of numbers,\n",
      "\n",
      "$$\n",
      "\\left\\lbrack\\begin{array}{cccc}\n",
      "0 & 12 & -1 & 5\\\\\n",
      "-1 & -1 & -1 & 0\\\\\n",
      "11 & 5 & 5 & -2\n",
      "\\end{array}\\right\\rbrack\n",
      "$$\n",
      "\n",
      "(*i.e.* a *matrix*) it is natural to use a two-dimensional array $A_{i,j}$ with one index for the rows and one for the columns:\n",
      "\n",
      "$$\n",
      "A = \n",
      "\\left\\lbrack\\begin{array}{ccc}\n",
      "A_{0,0} & \\cdots &  A_{0,n-1}\\\\\n",
      "\\vdots & \\ddots &  \\vdots\\\\\n",
      "A_{m-1,0} & \\cdots & A_{m-1,n-1}\n",
      "\\end{array}\\right\\rbrack\n",
      "$$\n",
      "\n",
      "Let's recreate this array using NumPy:"
     ]
    },
    {
     "cell_type": "code",
     "collapsed": false,
     "input": [
      "A = zeros((3,4))\n",
      "A[0,0] = 0\n",
      "A[1,0] = -1\n",
      "A[2,0] = 11\n",
      "\n",
      "A[0,1] = 12\n",
      "A[1,1] = -1\n",
      "A[2,1] = 5\n",
      "\n",
      "A[0,2] = -1\n",
      "A[1,2] = -1\n",
      "A[2,2] = 5\n",
      "\n",
      "# we can also use the same syntax that we used for nested lists\n",
      "\n",
      "A[0][3] = 5\n",
      "A[1][3] = 0\n",
      "A[2][3] = -2\n",
      "\n",
      "print A"
     ],
     "language": "python",
     "metadata": {},
     "outputs": [
      {
       "output_type": "stream",
       "stream": "stdout",
       "text": [
        "[[  0.  12.  -1.   5.]\n",
        " [ -1.  -1.  -1.   0.]\n",
        " [ 11.   5.   5.  -2.]]\n"
       ]
      }
     ],
     "prompt_number": 72
    },
    {
     "cell_type": "markdown",
     "metadata": {},
     "source": [
      "Next let's convert a nested list from a previous example into a 2D array:"
     ]
    },
    {
     "cell_type": "code",
     "collapsed": false,
     "input": [
      "Cdegrees = range(0, 101, 10)\n",
      "Fdegrees = [9./5*C + 32 for C in Cdegrees]\n",
      "table = [[C, F] for C, F in zip(Cdegrees, Fdegrees)]\n",
      "print table"
     ],
     "language": "python",
     "metadata": {},
     "outputs": [
      {
       "output_type": "stream",
       "stream": "stdout",
       "text": [
        "[[0, 32.0], [10, 50.0], [20, 68.0], [30, 86.0], [40, 104.0], [50, 122.0], [60, 140.0], [70, 158.0], [80, 176.0], [90, 194.0], [100, 212.0]]\n"
       ]
      }
     ],
     "prompt_number": 73
    },
    {
     "cell_type": "code",
     "collapsed": false,
     "input": [
      "# Convert this into a NumPy array:\n",
      "table2 = array(table)\n",
      "print table2"
     ],
     "language": "python",
     "metadata": {},
     "outputs": [
      {
       "output_type": "stream",
       "stream": "stdout",
       "text": [
        "[[   0.   32.]\n",
        " [  10.   50.]\n",
        " [  20.   68.]\n",
        " [  30.   86.]\n",
        " [  40.  104.]\n",
        " [  50.  122.]\n",
        " [  60.  140.]\n",
        " [  70.  158.]\n",
        " [  80.  176.]\n",
        " [  90.  194.]\n",
        " [ 100.  212.]]\n"
       ]
      }
     ],
     "prompt_number": 74
    },
    {
     "cell_type": "markdown",
     "metadata": {},
     "source": [
      "To see the number of elements in each dimension:"
     ]
    },
    {
     "cell_type": "code",
     "collapsed": false,
     "input": [
      "print table2.shape"
     ],
     "language": "python",
     "metadata": {},
     "outputs": [
      {
       "output_type": "stream",
       "stream": "stdout",
       "text": [
        "(11, 2)\n"
       ]
      }
     ],
     "prompt_number": 75
    },
    {
     "cell_type": "markdown",
     "metadata": {},
     "source": [
      "*i.e.* 11 rows and 2 columns.\n",
      "\n",
      "Let's write a loop over all array elements of A:"
     ]
    },
    {
     "cell_type": "code",
     "collapsed": false,
     "input": [
      "for i in range(table2.shape[0]):\n",
      "    for j in range(table2.shape[1]):\n",
      "        print 'table2[%d,%d] = %g' % (i, j, table2[i,j])"
     ],
     "language": "python",
     "metadata": {},
     "outputs": [
      {
       "output_type": "stream",
       "stream": "stdout",
       "text": [
        "table2[0,0] = 0\n",
        "table2[0,1] = 32\n",
        "table2[1,0] = 10\n",
        "table2[1,1] = 50\n",
        "table2[2,0] = 20\n",
        "table2[2,1] = 68\n",
        "table2[3,0] = 30\n",
        "table2[3,1] = 86\n",
        "table2[4,0] = 40\n",
        "table2[4,1] = 104\n",
        "table2[5,0] = 50\n",
        "table2[5,1] = 122\n",
        "table2[6,0] = 60\n",
        "table2[6,1] = 140\n",
        "table2[7,0] = 70\n",
        "table2[7,1] = 158\n",
        "table2[8,0] = 80\n",
        "table2[8,1] = 176\n",
        "table2[9,0] = 90\n",
        "table2[9,1] = 194\n",
        "table2[10,0] = 100\n",
        "table2[10,1] = 212\n"
       ]
      }
     ],
     "prompt_number": 76
    },
    {
     "cell_type": "markdown",
     "metadata": {},
     "source": [
      "Alternatively:"
     ]
    },
    {
     "cell_type": "code",
     "collapsed": false,
     "input": [
      "for index_tuple, value in ndenumerate(table2):\n",
      "    print 'index %s has value %g' % (index_tuple, table2[index_tuple])"
     ],
     "language": "python",
     "metadata": {},
     "outputs": [
      {
       "output_type": "stream",
       "stream": "stdout",
       "text": [
        "index (0, 0) has value 0\n",
        "index (0, 1) has value 32\n",
        "index (1, 0) has value 10\n",
        "index (1, 1) has value 50\n",
        "index (2, 0) has value 20\n",
        "index (2, 1) has value 68\n",
        "index (3, 0) has value 30\n",
        "index (3, 1) has value 86\n",
        "index (4, 0) has value 40\n",
        "index (4, 1) has value 104\n",
        "index (5, 0) has value 50\n",
        "index (5, 1) has value 122\n",
        "index (6, 0) has value 60\n",
        "index (6, 1) has value 140\n",
        "index (7, 0) has value 70\n",
        "index (7, 1) has value 158\n",
        "index (8, 0) has value 80\n",
        "index (8, 1) has value 176\n",
        "index (9, 0) has value 90\n",
        "index (9, 1) has value 194\n",
        "index (10, 0) has value 100\n",
        "index (10, 1) has value 212\n"
       ]
      }
     ],
     "prompt_number": 77
    },
    {
     "cell_type": "markdown",
     "metadata": {},
     "source": [
      "We can also extract slices from multi-dimensional arrays as before. For example, extract the second column:"
     ]
    },
    {
     "cell_type": "code",
     "collapsed": false,
     "input": [
      "print table2[:, 1] # 2nd column (index 1)"
     ],
     "language": "python",
     "metadata": {},
     "outputs": [
      {
       "output_type": "stream",
       "stream": "stdout",
       "text": [
        "[  32.   50.   68.   86.  104.  122.  140.  158.  176.  194.  212.]\n"
       ]
      }
     ],
     "prompt_number": 78
    },
    {
     "cell_type": "markdown",
     "metadata": {},
     "source": [
      "Play with this more complicated example:"
     ]
    },
    {
     "cell_type": "code",
     "collapsed": false,
     "input": [
      "t = linspace(1, 30, 30).reshape(5, 6)\n",
      "print t"
     ],
     "language": "python",
     "metadata": {},
     "outputs": [
      {
       "output_type": "stream",
       "stream": "stdout",
       "text": [
        "[[  1.   2.   3.   4.   5.   6.]\n",
        " [  7.   8.   9.  10.  11.  12.]\n",
        " [ 13.  14.  15.  16.  17.  18.]\n",
        " [ 19.  20.  21.  22.  23.  24.]\n",
        " [ 25.  26.  27.  28.  29.  30.]]\n"
       ]
      }
     ],
     "prompt_number": 79
    },
    {
     "cell_type": "code",
     "collapsed": false,
     "input": [
      "print t[1:-1:2, 2:]"
     ],
     "language": "python",
     "metadata": {},
     "outputs": [
      {
       "output_type": "stream",
       "stream": "stdout",
       "text": [
        "[[  9.  10.  11.  12.]\n",
        " [ 21.  22.  23.  24.]]\n"
       ]
      }
     ],
     "prompt_number": 80
    }
   ],
   "metadata": {}
  }
 ]
}