{
 "metadata": {
  "name": ""
 },
 "nbformat": 3,
 "nbformat_minor": 0,
 "worksheets": [
  {
   "cells": [
    {
     "cell_type": "heading",
     "level": 1,
     "metadata": {},
     "source": [
      "Introduction to programming for Geoscientists (through Python)"
     ]
    },
    {
     "cell_type": "markdown",
     "metadata": {},
     "source": [
      "Lecturer: [Gerard J. Gorman](http://www.imperial.ac.uk/people/g.gorman) <g.gorman@imperial.ac.uk>"
     ]
    },
    {
     "cell_type": "markdown",
     "metadata": {},
     "source": [
      "##Lecture 0: Overview\n",
      "This lecture course is designed to be a first introduction to computing programming, *i.e.* no previous knowledge of computer programming is assumed. We will be covering core concepts in programming which you will be able to reapply to any other programming language that you encounter in the future.\n",
      "\n",
      "**You should think about why you are learning to program.** It is a crucial skill in modern science and engineering. It has many uses in data analysis, modelling, and automating boring tasks so you can accomplish more. Irrespective of what area you pursue in geoscience, you will need to do a little or a lot of programming.\n",
      "\n",
      "Passive learning will not work for this course. Computing programming is a skill. The only way to succeed in this course is to turn up to lectures and work through the exercises. The exam for this course will also similarly involve a set of programming exercises.\n"
     ]
    },
    {
     "cell_type": "markdown",
     "metadata": {},
     "source": [
      "##Why Python? Why not [insert whatever language] instead?\n",
      "[Python](http://www.python.org/) is a modern, general-purpose, object-oriented, high-level programming language. It is widely used in science and engineering and overall has a significant share of the programming market share (see [TIOBE](http://www.tiobe.com/index.php/content/paperinfo/tpci/)).\n",
      "\n",
      "* **Simplicity:** It is easy to read and easy to learn.\n",
      "* **Expressive:** Fewer lines of code, fewer bugs and easy to maintain.\n",
      "* **Powerful:** Python is not a language you grow out of. It can also be used for large projects, Big Data, High Performance Computing applications, etc."
     ]
    },
    {
     "cell_type": "markdown",
     "metadata": {},
     "source": [
      "## Teaching structure\n",
      "* [Flipping the classroom](http://en.wikipedia.org/wiki/Flip_teaching) teaching philosophy.\n",
      "* Lecture material should be reviewed **before** the lecture.\n",
      "* Bring headphones in case you want to review audio/visual material during class.\n",
      "* Lecture time will focus on working through tutorial sheets.\n",
      "* Lecturer and teaching assistants support active learning.\n",
      "* Peer learning is important - feel free to discuss problems."
     ]
    },
    {
     "cell_type": "markdown",
     "metadata": {},
     "source": [
      "##Core course material\n",
      "\n",
      "* Text book: A Primer on Scientific Programming with Python, by Hans Petter Langtangen. This contains most of the exercises used in this course.\n",
      "* Course notes all available online.\n",
      "\n",
      "##Supplementary material\n",
      "What is a good learning resource for one student is a rubblish for another. So I encourage you to quickly browse a few different resources (see below) and see what works for you. A different explaination can often make all the difference to your understanding.\n",
      "\n",
      "* [Python](http://www.python.org>). The official Python web site.\n",
      "* [Python tutorials](http://docs.python.org/2/tutorial/). The official Python tutorials.\n",
      "* [Think Python](http://www.greenteapress.com/thinkpython/). A free book on Python.\n",
      "* [Free online Python course from the Codecademy](http://www.codecademy.com/tracks/python).\n",
      "* [Software Carpentry python course](http://software-carpentry.org/v4/python/).\n",
      "* [Khan Academy python course](http://www.khanacademy.org/science/computer-science)."
     ]
    },
    {
     "cell_type": "markdown",
     "metadata": {},
     "source": [
      "##Python environment\n",
      "\n",
      "For this course we will be using [IPython](http://ipython.org/) which provides a rich environment for interactive computing. Instructions for installing IPython on your own computers are provided [here](http://ipython.org/install.html). Windows, Mac and Linux are all supported. Note that you will need version 0.13.1 (or higher) of IPython to view these lecture notes successfully in the IPython notebook format (`.ipynb`).\n",
      "\n",
      "You can use Python/IPython on a wide range of computing platforms including Windows, Linux and Mac. If you have your own laptop that you want to use then ask for assistance in the lecture to get everything setup.\n",
      "\n",
      "In the lecture we are going to run everything off the dept student linux servers - `student.ese.ic.ac.uk` and `student2.ese.ic.ac.uk`. In the first lecture you will be shown how to ssh to this server. Once you are logged in you will want to get a copy of the lecture material. To do this you execute the following command at the terminal:\n",
      "\n",
      "```\n",
      "git clone https://github.com/ggorman/Introduction-to-programming-for-geoscientists.git\n",
      "```\n",
      "\n",
      "If you type ls you will see that this has created a directory `Introduction-to-programming-for-geoscientists/`. Navigate to the directory containing the course material using the command:\n",
      "\n",
      "```\n",
      "cd Introduction-to-programming-for-geoscientists/notebook\n",
      "```\n",
      "\n",
      "The lecture material will be updated throughout the term to add exercises and sample solutions to previous weeks. So you should pull updates regularly by navigating to that directory and issuing the command:\n",
      "\n",
      "```\n",
      "git pull\n",
      "```\n",
      "\n",
      "To get started with ipython notebook issue the following command:\n",
      "\n",
      "```\n",
      "ipython notebook\n",
      "```\n",
      "\n",
      "google-chrome should start up and you should see the list of lectures. Start by clicking on lecture 0."
     ]
    },
    {
     "cell_type": "markdown",
     "metadata": {},
     "source": [
      "##Programming is challenging - **Lectures should not be missed!**\n",
      "Lectures should not missed, exercises should not be skipped. You cannot cram for programming a week before the test because you are learning a new skill. However, if you put in the time you will quickly become proficient."
     ]
    },
    {
     "cell_type": "markdown",
     "metadata": {},
     "source": [
      "Alan Perlis, computer scientist, 1922-1990:\n",
      "\n",
      "> You think you know when you can learn, are more sure when you can write,\n",
      "even more when you can teach, but certain when you can program"
     ]
    }
   ],
   "metadata": {}
  }
 ]
}