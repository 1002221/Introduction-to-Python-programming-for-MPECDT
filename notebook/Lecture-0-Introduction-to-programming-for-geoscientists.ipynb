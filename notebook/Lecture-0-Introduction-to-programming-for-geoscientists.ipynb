{
 "metadata": {
  "name": "Lecture-0-Introduction-to-programming-for-geoscientists"
 },
 "nbformat": 3,
 "nbformat_minor": 0,
 "worksheets": [
  {
   "cells": [
    {
     "cell_type": "heading",
     "level": 1,
     "metadata": {},
     "source": [
      "Introduction to programming for Geoscientists (through Python)"
     ]
    },
    {
     "cell_type": "markdown",
     "metadata": {},
     "source": [
      "Lecturer: Gerard J. Gorman (g.gorman@imperial.ac.uk) http://www.imperial.ac.uk/people/g.gorman"
     ]
    },
    {
     "cell_type": "heading",
     "level": 1,
     "metadata": {},
     "source": [
      "Lecture 0: Overview"
     ]
    },
    {
     "cell_type": "markdown",
     "metadata": {},
     "source": [
      "This lecture course is designed to be a first introduction to computing programming, *i.e.* no previous knowledge of computer programming is assumed. We will be covering core concepts in programming which you will be able to reapply to any other programming language that you encounter in the future.\n",
      "\n",
      "**You should think about why you are learning to program.** It is a crucial skill in modern science and engineering. It has many uses in data analysis, modelling, and automating boring tasks so you can accomplish more. Irrespective of what area you pursue in geoscience, you will need to do a little or a lot of programming.\n",
      "\n",
      "Passive learning will not work for this course. Computing programming is a skill. The only way to succeed in this course is to turn up to lectures and work through the exercises. The exam for this course will also similarly involve a set of programming exercises.\n"
     ]
    },
    {
     "cell_type": "heading",
     "level": 2,
     "metadata": {},
     "source": [
      "Why Python? Why not [insert whatever language] instead?"
     ]
    },
    {
     "cell_type": "markdown",
     "metadata": {},
     "source": [
      "[Python](http://www.python.org/) is a modern, general-purpose, object-oriented, high-level programming language. It is widely used in science and engineering and overall has a significant share of the programming market share (see [TIOBE](http://www.tiobe.com/index.php/content/paperinfo/tpci/)).\n",
      "\n",
      "* **Simplicity:** It is easy to read and easy to learn.\n",
      "* **Expressive:** Fewer lines of code, fewer bugs and easy to maintain.\n",
      "* **Powerful:** Python is not a language you grow out of. It can also be used for large projects, Big Data, High Performance Computing applications, etc."
     ]
    },
    {
     "cell_type": "heading",
     "level": 2,
     "metadata": {},
     "source": [
      "Teaching structure"
     ]
    },
    {
     "cell_type": "markdown",
     "metadata": {},
     "source": [
      "* [Flipping the classroom](http://en.wikipedia.org/wiki/Flip_teaching) teaching philosophy.\n",
      "* Lecture material should be reviewed **before** the lecture.\n",
      "* Bring headphones in case you want to review audio/visual material during class.\n",
      "* Lecture time will focus on working through tutorial sheets.\n",
      "* Lecturer and teaching assistants support active learning.\n",
      "* Peer learning is important - feel free to discuss problems."
     ]
    },
    {
     "cell_type": "heading",
     "level": 2,
     "metadata": {},
     "source": [
      "Course material"
     ]
    },
    {
     "cell_type": "markdown",
     "metadata": {},
     "source": [
      "Core material:\n",
      "\n",
      "* Text book: A Primer on Scientific Programming with Python, by Hans Petter Langtangen. This contains most of the exercises used in this course.\n",
      "* Course notes all available online.\n",
      "\n",
      "Supplementary material:\n",
      "\n",
      "* [Python](http://www.python.org>). The official Python web site.\n",
      "* [Python tutorials](http://docs.python.org/2/tutorial/). The official Python tutorials.\n",
      "* [Think Python](http://www.greenteapress.com/thinkpython/). A free book on Python.\n",
      "* [Free online Python course from the Codecademy](http://www.codecademy.com/tracks/python)."
     ]
    },
    {
     "cell_type": "heading",
     "level": 1,
     "metadata": {},
     "source": [
      "Python environment instillation"
     ]
    },
    {
     "cell_type": "markdown",
     "metadata": {},
     "source": [
      "For this course we will be using [IPython](http://ipython.org/) which provides a rich environment for interactive computing. The labs are running Windows with the Enthought Python Distribution (EPD) installed. Instructions for installing IPython on your own computers are provided [here](http://ipython.org/install.html). Windows, Mac and Linux are all supported. Note that you will need version 0.13.1 (or higher) of IPython to view these lecture notes successfully in the IPython notebook format (.ipynb).\n",
      "\n",
      "If you are interested you can also ssh into the department's student Linux server (student.ese.ic.ac.uk) to try some of the coding examples. But this is not a requirement for this course."
     ]
    },
    {
     "cell_type": "markdown",
     "metadata": {},
     "source": [
      "##Programming is challenging - **Lectures should not missed!**"
     ]
    },
    {
     "cell_type": "raw",
     "metadata": {},
     "source": [
      "Alan Perlis, computer scientist, 1922-1990, \n",
      "\n",
      "\u201dYou think you know when you can learn,\n",
      "are more sure when you can write,\n",
      "even more when you can teach,\n",
      "but certain when you can program\u201d*"
     ]
    }
   ],
   "metadata": {}
  }
 ]
}