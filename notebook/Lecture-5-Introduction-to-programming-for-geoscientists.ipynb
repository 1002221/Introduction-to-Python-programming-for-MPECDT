{
 "metadata": {
  "name": ""
 },
 "nbformat": 3,
 "nbformat_minor": 0,
 "worksheets": [
  {
   "cells": [
    {
     "cell_type": "heading",
     "level": 1,
     "metadata": {},
     "source": [
      "Introduction to programming for Geoscientists (through Python)"
     ]
    },
    {
     "cell_type": "markdown",
     "metadata": {},
     "source": [
      "#Lecture 5: Files, strings, and dictionaries\n",
      "##Gerard J. Gorman (g.gorman@imperial.ac.uk) http://www.imperial.ac.uk/people/g.gorman\n",
      "\n",
      "Learning objectives: You will learn how to:\n",
      "1. Read data in from a file\n",
      "2. Parse strings to extract specific data of interest.\n",
      "3. Use dictionaries to index data with using any type of key."
     ]
    },
    {
     "cell_type": "markdown",
     "metadata": {},
     "source": [
      "##Reading data from a plain text file\n",
      "We can read text from a [text file](http://en.wikipedia.org/wiki/Text_file) into strings in a program. This is a common (and simple) way for a program to get input data. The basic recipe is:"
     ]
    },
    {
     "cell_type": "raw",
     "metadata": {},
     "source": [
      "# Open text file\n",
      "infile = open(\"myfile.dat\", \"r\")\n",
      "\n",
      "# Read next line:\n",
      "line = infile.readline()\n",
      "\n",
      "# Read the lines in a loop one by one:\n",
      "for line in infile:\n",
      "    <process line>\n",
      "\n",
      "# Load all lines into a list of strings:\n",
      "lines = infile.readlines()\n",
      "for line in lines:\n",
      "    <process line>"
     ]
    },
    {
     "cell_type": "markdown",
     "metadata": {},
     "source": [
      "Lets look at an example. You will have downloaded the file data1.txt in the data folder along with these lecture notes. The files has a column of numbers:"
     ]
    },
    {
     "cell_type": "raw",
     "metadata": {},
     "source": [
      "21.8\n",
      "18.1\n",
      "19\n",
      "23\n",
      "26\n",
      "17.8"
     ]
    },
    {
     "cell_type": "markdown",
     "metadata": {},
     "source": [
      "The goal is to read this file and calculate the mean:"
     ]
    },
    {
     "cell_type": "code",
     "collapsed": false,
     "input": [
      "# Open data file\n",
      "infile = open(\"data/data1.txt\", \"r\")\n",
      "\n",
      "# Initialise values\n",
      "mean = 0\n",
      "n=0\n",
      "\n",
      "# Loop to perform sum\n",
      "for number in infile:\n",
      "    number = float(number)\n",
      "    mean = mean + number\n",
      "    n += 1\n",
      "    \n",
      "# It is good practice to close a file when you are finished. \n",
      "infile.close()\n",
      "\n",
      "# Calculate the mean.\n",
      "mean = mean/n\n",
      "print mean"
     ],
     "language": "python",
     "metadata": {},
     "outputs": [
      {
       "output_type": "stream",
       "stream": "stdout",
       "text": [
        "20.95\n"
       ]
      }
     ],
     "prompt_number": 24
    },
    {
     "cell_type": "markdown",
     "metadata": {},
     "source": [
      "Lets make this example more interesting. There is a **lot** of data out there for you to discover all kinds of interesting facts - you just need to be interested learn a little analysis. For this case I have downloaded tidal gauge data for the port of Avonmouth from the [BODC](http://www.bodc.ac.uk/). If you look at the header of file data/2012AVO.txt you will the [metadata](http://en.wikipedia.org/wiki/Metadata):"
     ]
    },
    {
     "cell_type": "raw",
     "metadata": {},
     "source": [
      "Port:              P060\n",
      "Site:              Avonmouth\n",
      "Latitude:          51.51089\n",
      "Longitude:         -2.71497\n",
      "Start Date:        01JAN2012-00.00.00\n",
      "End Date:          30APR2012-23.45.00\n",
      "Contributor:       National Oceanography Centre, Liverpool\n",
      "Datum information: The data refer to Admiralty Chart Datum (ACD)\n",
      "Parameter code:    ASLVTD02 = Surface elevation (unspecified datum) of the water body by fixed in-situ pressure sensor"
     ]
    },
    {
     "cell_type": "markdown",
     "metadata": {},
     "source": [
      "Lets read the column ASLVTD02 (the surface elevation) and plot it:"
     ]
    },
    {
     "cell_type": "code",
     "collapsed": false,
     "input": [
      "# Just before starting our program lets tell notebook to inline graphics.\n",
      "%pylab inline"
     ],
     "language": "python",
     "metadata": {},
     "outputs": [
      {
       "output_type": "stream",
       "stream": "stdout",
       "text": [
        "Populating the interactive namespace from numpy and matplotlib\n"
       ]
      },
      {
       "output_type": "stream",
       "stream": "stderr",
       "text": [
        "WARNING: pylab import has clobbered these variables: ['power', 'mean', 'number', 'draw_if_interactive', 'random', 'fft', 'load', 'save', 'linalg', 'info']\n",
        "`%pylab --no-import-all` prevents importing * from pylab and numpy\n"
       ]
      }
     ],
     "prompt_number": 25
    },
    {
     "cell_type": "code",
     "collapsed": false,
     "input": [
      "from pylab import *\n",
      "\n",
      "tide_file = open(\"data/2012AVO.txt\", \"r\")\n",
      "\n",
      "# We know from inspecting the file that the first 11 lines are just\n",
      "# header information so lets just skip those lines.\n",
      "for i in range(11):\n",
      "    line = tide_file.readline()\n",
      "\n",
      "# Initialise an empty list to store the elevation\n",
      "elevation = []\n",
      "days = []\n",
      "\n",
      "# Now we start reading the interesting data\n",
      "n=0\n",
      "while True: # This will keep looping until we break out.\n",
      "    # Here we use a try/except block to try to read the data as normal\n",
      "    # and to break out if unsuccessful - ie when we reach the end of the file. \n",
      "    try:\n",
      "        # Read the next line\n",
      "        line = tide_file.readline()\n",
      "        \n",
      "        # Split this line into words. \n",
      "        words = line.split()\n",
      "        \n",
      "        # If we do not have 5 words then it must be blank lines at the end of the file.\n",
      "        if len(words)!=5:\n",
      "            break\n",
      "    except:\n",
      "        # If we failed to read a line then we must have got to the end.\n",
      "        break\n",
      "    \n",
      "    n+=1 # Count number of data points\n",
      "\n",
      "    try:\n",
      "        # The elevation data is on the 4th column. However, the BODC\n",
      "        # appends a \"M\" when a value is improbable and an \"N\" when\n",
      "        # data is missing (maybe a ship dumped into it during rough weather!)\n",
      "        # Therefore, we put this conversion from a string into a float in a \n",
      "        # try/except block.\n",
      "        level = float(words[3])\n",
      "        elevation.append(level)\n",
      "        \n",
      "        # There is a measurement every quarter hour.\n",
      "        days.append(n*0.25/24) \n",
      "    except:\n",
      "        continue\n",
      "    \n",
      "# For plotting lets convert the list to a NumPy array.\n",
      "elevation = array(elevation)\n",
      "days = array(days)\n",
      "\n",
      "plot(days, elevation)\n",
      "xlabel(\"Days\")\n",
      "ylabel(\"Elevation (meters)\")\n",
      "show()"
     ],
     "language": "python",
     "metadata": {},
     "outputs": [
      {
       "metadata": {},
       "output_type": "display_data",
       "png": "[encoded data removed]",
       "text": [
        "<matplotlib.figure.Figure at 0x310a6d0>"
       ]
      }
     ],
     "prompt_number": 26
    },
    {
     "cell_type": "markdown",
     "metadata": {},
     "source": [
      "Quiz time:\n",
      "* What tidal constituents can you identify by looking at this plot?\n",
      "* Is this primarily a diurnal or semi-diurnal tidal region? (hint - change to x-axis range on the plot above).\n",
      "\n",
      "You will notice in the above example that we used the *split()* string members function. This is a very useful function for grabbing individual words on a line. When called without any arguments it assumes that the [delimiter](http://en.wikipedia.org/wiki/Delimiter) is a blank space. However, you can use this to split a string with any delimiter, *e.g.*, *line.split(';')*, *line.split(':')*."
     ]
    },
    {
     "cell_type": "markdown",
     "metadata": {},
     "source": [
      "##Python dictionaries\n",
      "Suppose we need to store the temperatures in Oslo, London and Paris. The Python list solution might look like:"
     ]
    },
    {
     "cell_type": "code",
     "collapsed": false,
     "input": [
      "temps = [13, 15.4, 17.5]\n",
      "# temps[0]: Oslo\n",
      "# temps[1]: London\n",
      "# temps[2]: Paris"
     ],
     "language": "python",
     "metadata": {},
     "outputs": [],
     "prompt_number": 27
    },
    {
     "cell_type": "markdown",
     "metadata": {},
     "source": [
      "In this case we need to remember the mapping between the index and the city name. It would be easier to specify name of city to get the temperature. Containers such as list and arrays use a continuous series of integers to index elements. However, for many applications such an integer index is not useful.\n",
      "\n",
      "**Dictionaries** are containers where any Python object can be used\n",
      "as an index. Lets rewrite the previous example using a Python dictionary:"
     ]
    },
    {
     "cell_type": "code",
     "collapsed": false,
     "input": [
      "temps = {\"Oslo\": 13, \"London\": 15.4, \"Paris\": 17.5}\n",
      "print \"The temperature in London is\", temps[\"London\"]"
     ],
     "language": "python",
     "metadata": {},
     "outputs": [
      {
       "output_type": "stream",
       "stream": "stdout",
       "text": [
        "The temperature in London is 15.4\n"
       ]
      }
     ],
     "prompt_number": 28
    },
    {
     "cell_type": "markdown",
     "metadata": {},
     "source": [
      "Add a new element to a dictionary:"
     ]
    },
    {
     "cell_type": "code",
     "collapsed": false,
     "input": [
      "temps[\"Madrid\"] = 26.0\n",
      "print temps"
     ],
     "language": "python",
     "metadata": {},
     "outputs": [
      {
       "output_type": "stream",
       "stream": "stdout",
       "text": [
        "{'Paris': 17.5, 'Oslo': 13, 'London': 15.4, 'Madrid': 26.0}\n"
       ]
      }
     ],
     "prompt_number": 29
    },
    {
     "cell_type": "markdown",
     "metadata": {},
     "source": [
      "Loop (iterate) over a dictionary:"
     ]
    },
    {
     "cell_type": "code",
     "collapsed": false,
     "input": [
      "for city in temps:\n",
      "    print \"The temperature in %s is %g\" % (city, temps[city])"
     ],
     "language": "python",
     "metadata": {},
     "outputs": [
      {
       "output_type": "stream",
       "stream": "stdout",
       "text": [
        "The temperature in Paris is 17.5\n",
        "The temperature in Oslo is 13\n",
        "The temperature in London is 15.4\n",
        "The temperature in Madrid is 26\n"
       ]
      }
     ],
     "prompt_number": 30
    },
    {
     "cell_type": "markdown",
     "metadata": {},
     "source": [
      "The index in a dictionary is called the **key**. A dictionary is said to hold key\u2013value pairs. So in general:"
     ]
    },
    {
     "cell_type": "raw",
     "metadata": {},
     "source": [
      "for key in dictionary:\n",
      "    value = dictionary[key]\n",
      "    print value"
     ]
    },
    {
     "cell_type": "markdown",
     "metadata": {},
     "source": [
      "Does the dictionary have a particular key?"
     ]
    },
    {
     "cell_type": "code",
     "collapsed": false,
     "input": [
      ">>> if \"Berlin\" in temps:\n",
      "...\n",
      "print \"Berlin:\", temps[\"Berlin\"]\n",
      "... else:\n",
      "...\n",
      "print \"No temperature data for Berlin\"\n",
      "...\n",
      "No temperature data for Berlin\n",
      ">>> \"Oslo\" in temps\n",
      "# standard boolean expression\n",
      "True\n",
      "\u25ee\n",
      "The keys and values can be reached as lists:\n",
      ">>> temps.keys()\n",
      "[\"Paris\", \"Oslo\", \"London\", \"Madrid\"]\n",
      ">>> temps.values()\n",
      "[17.5, 13, 15.4, 26.0]\n",
      "\u25ee\n",
      "Note: the sequence of keys is arbitrary! Never rely on it \u2013 if\n",
      "you need a specific order of the keys, use a sort:\n",
      "for key in sorted(temps):\n",
      "value = temps[key]\n",
      "print value"
     ],
     "language": "python",
     "metadata": {},
     "outputs": []
    }
   ],
   "metadata": {}
  }
 ]
}