{
 "metadata": {
  "name": ""
 },
 "nbformat": 3,
 "nbformat_minor": 0,
 "worksheets": [
  {
   "cells": [
    {
     "cell_type": "code",
     "collapsed": false,
     "input": [
      "# First function:\n",
      "def hw1():\n",
      "    return 'Hello, World!'\n",
      "# Second function:\n",
      "def hw2():\n",
      "    print 'Hello, World!'\n",
      "# Third function:\n",
      "def hw3(input1, input2):\n",
      "    print '%s, %s' % (input1, input2)\n",
      "\n",
      "# Main program:\n",
      "print hw1()\n",
      "hw2()\n",
      "hw3('Hello ', 'World!')"
     ],
     "language": "python",
     "metadata": {},
     "outputs": []
    }
   ],
   "metadata": {}
  }
 ]
}