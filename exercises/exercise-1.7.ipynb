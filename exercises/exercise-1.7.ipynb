{
 "metadata": {
  "name": ""
 },
 "nbformat": 3,
 "nbformat_minor": 0,
 "worksheets": [
  {
   "cells": [
    {
     "cell_type": "code",
     "collapsed": false,
     "input": [
      "from math import pi\n",
      "h = 5.0   # height\n",
      "b = 2.0   # base\n",
      "r = 1.5   # radius\n",
      "\n",
      "area_parallelogram = h*b\n",
      "print 'The area of the parallelogram is %.3f' % area_parallelogram\n",
      "\n",
      "area_square = b**2\n",
      "print 'The area of the square is %g' % area_square\n",
      "\n",
      "area_circle = pi*r**2\n",
      "print 'The area of the circle is %8.3f' % area_circle\n",
      "\n",
      "volume_cone = 1.0/3*pi*r**2*h\n",
      "print 'The volume of the cone is %.3f' % volume_cone"
     ],
     "language": "python",
     "metadata": {},
     "outputs": []
    }
   ],
   "metadata": {}
  }
 ]
}