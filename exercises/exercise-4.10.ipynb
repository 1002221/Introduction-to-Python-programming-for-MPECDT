{
 "metadata": {
  "name": ""
 },
 "nbformat": 3,
 "nbformat_minor": 0,
 "worksheets": [
  {
   "cells": [
    {
     "cell_type": "code",
     "collapsed": false,
     "input": [
      "import sys\n",
      "from math import cos, tan\n",
      "from numpy import *\n",
      "from scitools.std import *\n",
      "\n",
      "def f(x, y0, v0, theta):\n",
      "    g = 9.81\n",
      "    return x*tan(theta) - 1.0/(2.0*v0**2) * (g*x**2)/(cos(theta)**2) + y0\n",
      "\n",
      "# Get input data from command-line:\n",
      "y0 = float(sys.argv[1])\n",
      "# Get theta in degrees and convert it to radians\n",
      "theta = float(sys.argv[2])*pi/180.0\n",
      "v0 = float(sys.argv[3])\n",
      "# Initialize x:\n",
      "x = linspace(0,15)\n",
      "\n",
      "# Compute y-position of ball:\n",
      "y = f(x, y0, v0, theta)\n",
      "# Now find x-coordinate where the y-coordinate of the ball is < 0:\n",
      "for i in range(len(y)):\n",
      "    if (y[i] < 0.0):\n",
      "        x_g = x[i]\n",
      "        # And stop the loop immediately:\n",
      "        break\n",
      "\n",
      "print x\n",
      "print y\n",
      "print x_g\n",
      "# Plot the results:\n",
      "plot(x, y, axis=[x[0], x_g, x[0], x_g], xlabel='x-coordinate [m]', ylabel='y-coordinate [m]')\n",
      "hardcopy('ball_trajectory.png')\n",
      ""
     ],
     "language": "python",
     "metadata": {},
     "outputs": []
    }
   ],
   "metadata": {}
  }
 ]
}