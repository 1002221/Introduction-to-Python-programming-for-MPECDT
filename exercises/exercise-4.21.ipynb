{
 "metadata": {
  "name": ""
 },
 "nbformat": 3,
 "nbformat_minor": 0,
 "worksheets": [
  {
   "cells": [
    {
     "cell_type": "code",
     "collapsed": false,
     "input": [
      "import sys\n",
      "from math import *\n",
      "from numpy import *\n",
      "from scitools.std import *\n",
      "\n",
      "# Get function (as a string):\n",
      "f = sys.argv[1]\n",
      "# get xmin and xmax:\n",
      "xmin = eval(sys.argv[2])\n",
      "xmax = eval(sys.argv[3])\n",
      "# create array of x values:\n",
      "x = linspace(xmin,xmax)\n",
      "# Evaluate function:\n",
      "y = eval(f)\n",
      "# Output:\n",
      "print 'x = ', x\n",
      "print 'y = ', y\n",
      "plot(x, y, axis=[x[0], x[-1]], xlabel='x-coordinate', ylabel='y-coordinate')\n",
      "hardcopy('exercise-4_21.png')"
     ],
     "language": "python",
     "metadata": {},
     "outputs": []
    }
   ],
   "metadata": {}
  }
 ]
}