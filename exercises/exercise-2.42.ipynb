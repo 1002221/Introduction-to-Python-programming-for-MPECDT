{
 "metadata": {
  "name": ""
 },
 "nbformat": 3,
 "nbformat_minor": 0,
 "worksheets": [
  {
   "cells": [
    {
     "cell_type": "code",
     "collapsed": false,
     "input": [
      "# Function to find the minimum value in a list\n",
      "def mymin(list):\n",
      "    # store first element in list in 'min_elem'\n",
      "    min_elem = list[0]\n",
      "    # for the remaining elements in list, compare their values to min_elem\n",
      "    # and if the element's value is less than min_elem, store its value\n",
      "    # in min_elem\n",
      "    for element in list[1:]:\n",
      "        if (element < min_elem):\n",
      "            min_elem = element\n",
      "    return min_elem\n",
      "# Function to find the maximum value in a list\n",
      "def mymax(list):\n",
      "    # store first element in list in 'max_elem'\n",
      "    max_elem = list[0]\n",
      "    # for the remaining elements in list, compare their values to max_elem\n",
      "    # and if the element's value is greater than max_elem, store its value\n",
      "    # in max_elem\n",
      "    for element in list[1:]:\n",
      "        if (element > max_elem):\n",
      "            max_elem = element\n",
      "    return max_elem\n",
      "\n",
      "# Main program:\n",
      "# Define list with random numbers:\n",
      "a = [3.5, 200.1, -5.0, 77, -1.0, 0, 94.3]\n",
      "print "a = ", a # printing the whole list\n",
      "# Comparing the minimum/maximum values in a found by the functions of Python's standard library and our own functions:\n",
      "print "Minimum value found in a:"\n",
      "print "Python's min function: %g; Our own function mymin: %g" % (min(a), mymin(a))\n",
      "print "Maximum value found in a:"\n",
      "print "Python's max function: %g; Our own function mymax: %g" % (max(a), mymax(a))"
     ],
     "language": "python",
     "metadata": {},
     "outputs": []
    }
   ],
   "metadata": {}
  }
 ]
}