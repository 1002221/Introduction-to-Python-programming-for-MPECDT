{
 "metadata": {
  "name": ""
 },
 "nbformat": 3,
 "nbformat_minor": 0,
 "worksheets": [
  {
   "cells": [
    {
     "cell_type": "code",
     "collapsed": false,
     "input": [
      "# The first code nippet given in the exercise work, because t1 is a initialised as an empty dictionary. The syntax "t1[0] = -5" automatically creates a key '0' and assigns the value '-5' to it. The same happens with the next line "t1[1] = 10.5". For dictionaries, what is inbetween the squared brackets is NOT the index, is refers to a 'key', and if that key does not exist yet, it is created.\n",
      "\n",
      "# The second code snippet initialises t2 to be an empty list. In the next line we try to set the value of the first element of t2 to be '-5'. However, the list t2 is empty at that point, meaning there is no first element, thus Python throws an "Index out of range" error at us.\n",
      "\n",
      "# To fix the second code snippet, we have to modify line 2 and 3 to be:\n",
      "# t2.append(-5)\n",
      "# t2.append(10.5)"
     ],
     "language": "python",
     "metadata": {},
     "outputs": []
    }
   ],
   "metadata": {}
  }
 ]
}