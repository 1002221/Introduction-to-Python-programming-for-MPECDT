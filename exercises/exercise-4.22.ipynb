{
 "metadata": {
  "name": ""
 },
 "nbformat": 3,
 "nbformat_minor": 0,
 "worksheets": [
  {
   "cells": [
    {
     "cell_type": "code",
     "collapsed": false,
     "input": [
      "import sys\n",
      "from math import *\n",
      "from numpy import *\n",
      "from scitools.std import *\n",
      "\n",
      "# Get function (as a string):\n",
      "f = sys.argv[1]\n",
      "try:\n",
      "    # get xmin and xmax:\n",
      "    xmin = eval(sys.argv[2])\n",
      "    xmax = eval(sys.argv[3])\n",
      "except:\n",
      "    print 'Error: Wrong input. 2nd, 3rd command-line arguments are xmin and xmax respectively.'\n",
      "    exit()\n",
      "try:\n",
      "    # get number of points:\n",
      "    n = eval(sys.argv[4])\n",
      "except:\n",
      "    # If 4th argument is not given, or eval gives an error, set to 501:\n",
      "    n = 501\n",
      "\n",
      "# create array of x values:\n",
      "x = linspace(xmin,xmax,n)\n",
      "# Try to evaluate the given function:\n",
      "try:\n",
      "    y = eval(f)\n",
      "except: # If error occured, give error messagt, most likely the given function had a mistake\n",
      "    print 'Error: The given function %s could not be evaluated' % f\n",
      "    exit()\n",
      "# Output:\n",
      "print 'x = ', x\n",
      "print 'y = ', y\n",
      "plot(x, y, axis=[x[0], x[-1]], xlabel='x-coordinate', ylabel='y-coordinate')\n",
      "hardcopy('exercise-4_22.png')"
     ],
     "language": "python",
     "metadata": {},
     "outputs": []
    }
   ],
   "metadata": {}
  }
 ]
}