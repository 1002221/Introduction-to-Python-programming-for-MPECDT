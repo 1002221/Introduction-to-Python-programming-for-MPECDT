{
 "metadata": {
  "name": ""
 },
 "nbformat": 3,
 "nbformat_minor": 0,
 "worksheets": [
  {
   "cells": [
    {
     "cell_type": "code",
     "collapsed": false,
     "input": [
      "q = [['a', 'b', 'c'], ['d', 'e', 'f'], ['g', 'h']]\n",
      "# Print statements:\n",
      "print "extracting letter 'a': %s" % q[0][0]\n",
      "print "extracting list '['d', 'e', 'f']': %s" % q[1]\n",
      "print "extracting last element 'h': %s" % q[-1][-1]\n",
      "# Alternatively:\n",
      "# print "extracting last element 'h': %s" % q[2][1]\n",
      "print "extracting letter 'd': %s" % q[1][0]"
     ],
     "language": "python",
     "metadata": {},
     "outputs": []
    }
   ],
   "metadata": {}
  }
 ]
}