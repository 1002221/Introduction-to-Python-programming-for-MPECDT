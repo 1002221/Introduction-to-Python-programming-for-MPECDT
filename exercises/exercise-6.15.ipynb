{
 "metadata": {
  "name": ""
 },
 "nbformat": 3,
 "nbformat_minor": 0,
 "worksheets": [
  {
   "cells": [
    {
     "cell_type": "code",
     "collapsed": false,
     "input": [
      "\n",
      "def area(vertices):\n",
      "    # This function assumes vertices to be a nested list, and is the solution of exercise 2.17\n",
      "    # A long equation, and one has to double check that the indices are correct...\n",
      "    return 0.5 * (vertices[1][0]*vertices[2][1] - vertices[2][0]*vertices[1][1] - vertices[0][0]*vertices[2][1] + vertices[2][0]*vertices[0][1] + vertices[0][0]*vertices[1][1] - vertices[1][0]*vertices[0][1])\n",
      "\n",
      "def area_dictionary(vertices):\n",
      "    # This function assumes vertices to be a dictionary\n",
      "    return 0.5 * (vertices[2][0]*vertices[3][1] - vertices[3][0]*vertices[2][1] - vertices[1][0]*vertices[3][1] + vertices[3][0]*vertices[1][1] + vertices[1][0]*vertices[2][1] - vertices[2][0]*vertices[1][1])\n",
      "\n",
      "# Initialisation:\n",
      "vertices = [[0,0], [1,0], [0,2]] # nested list for the function of exercise 2.17\n",
      "vertices_dictionary = {1 : (0,0), 2: (1,0), 3: (0,2)} # dictionary for the function of this exercise\n",
      "# Computing the area by applying both functions:\n",
      "area_triangle = area(vertices)\n",
      "area_triangle_dictionary = area_dictionary(vertices_dictionary)\n",
      "# Output:\n",
      "print "Area of a triangle with a nested list: ", area_triangle\n",
      "print "Area of a triangle with a dictionary:  ", area_triangle_dictionary"
     ],
     "language": "python",
     "metadata": {},
     "outputs": []
    }
   ],
   "metadata": {}
  }
 ]
}