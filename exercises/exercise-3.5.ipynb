{
 "metadata": {
  "name": ""
 },
 "nbformat": 3,
 "nbformat_minor": 0,
 "worksheets": [
  {
   "cells": [
    {
     "cell_type": "code",
     "collapsed": false,
     "input": [
      "import sys\n",
      "# Get command-line argument and pass it to the 'eval' function:\n",
      "s = eval(sys.argv[1])\n",
      "\n",
      "print 'Input was: ', s # Output\n",
      "print 'Type is: ', type(s) # Output its type"
     ],
     "language": "python",
     "metadata": {},
     "outputs": []
    }
   ],
   "metadata": {}
  }
 ]
}