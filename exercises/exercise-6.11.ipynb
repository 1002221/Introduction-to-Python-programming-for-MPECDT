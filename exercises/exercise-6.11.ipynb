{
 "metadata": {
  "name": ""
 },
 "nbformat": 3,
 "nbformat_minor": 0,
 "worksheets": [
  {
   "cells": [
    {
     "cell_type": "code",
     "collapsed": false,
     "input": [
      "from pylab import *\n",
      "\n",
      "infile = open('lnsum.txt')\n",
      "lines = infile.readlines()\n",
      "infile.close()\n",
      "\n",
      "# Initialisation:\n",
      "epsilon = []\n",
      "error = []\n",
      "n = []\n",
      "\n",
      "# Get values\n",
      "for line in lines:\n",
      "    # Get epsilon values:\n",
      "    epsilon.append(float(line.split('epsilon:')[-1].split(',')[0]))\n",
      "    # Get error values:\n",
      "    error.append(float(line.split('error:')[-1].split(',')[0] ))\n",
      "    # Get n values:\n",
      "    n.append(float(line.split('=')[-1]))\n",
      "\n",
      "# Convert lists to arrays:\n",
      "epsilon = array(epsilon)\n",
      "error = array(error)\n",
      "n = array(n)\n",
      "\n",
      "# Output:\n",
      "print "epsilon = ", epsilon\n",
      "print "error = ", error\n",
      "print "n = ", n\n",
      "\n",
      "# Plot:\n",
      "semilogy(n, epsilon, n, error)\n",
      "xlabel('n')\n",
      "legend(('Epsilon', 'Error'))\n",
      "savefig("lnsum-plot.png")\n",
      "show()"
     ],
     "language": "python",
     "metadata": {},
     "outputs": []
    }
   ],
   "metadata": {}
  }
 ]
}