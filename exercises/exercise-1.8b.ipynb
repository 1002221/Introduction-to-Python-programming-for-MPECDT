{
 "metadata": {
  "name": ""
 },
 "nbformat": 3,
 "nbformat_minor": 0,
 "worksheets": [
  {
   "cells": [
    {
     "cell_type": "code",
     "collapsed": false,
     "input": [
      "v0 = 3 #m/s\n",
      "t = 1 #s\n",
      "a = 2 #m/s**2\n",
      "s = v0*t + 1.0/2*a*t**2\n",
      "print s"
     ],
     "language": "python",
     "metadata": {},
     "outputs": []
    }
   ],
   "metadata": {}
  }
 ]
}