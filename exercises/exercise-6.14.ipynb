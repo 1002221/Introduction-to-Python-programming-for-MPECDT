{
 "metadata": {
  "name": ""
 },
 "nbformat": 3,
 "nbformat_minor": 0,
 "worksheets": [
  {
   "cells": [
    {
     "cell_type": "code",
     "collapsed": false,
     "input": [
      "#########\n",
      "# NOTE: #\n",
      "#########\n",
      "# The file 'human_evolution.txt' contains special characters, i.e. a special hyphen, that is unequal the hyphen on the keyboard. Thus when processing this file, python will complain about that character.\n",
      "# Solution: Copy that file into your home directory, and replace all hyphens in that file with the hyphen on the keyboard\n",
      "\n",
      "# Open file (assuming the file was copied into the same directory as this python file):\n",
      "filename = 'human_evolution.txt' # get the filename via a command-line argument\n",
      "infile = open(filename, 'r') # opening the above specified file in reading ('r') mode\n",
      "lines = infile.readlines() # lines is a list with as many elements as there are lines in the file\n",
      "infile.close() # since the whole content of the file is stored in 'lines', we can close the file now, and process its content below\n",
      "\n",
      "# Initialise an empty dictionary first:\n",
      "humans = {}\n",
      "# Example of a nested dictionary:\n",
      "# d = {'outer-key' : {'inner-key1' : value1, 'inner-key2' : value2} }\n",
      "\n",
      "# Now loop over all lines and process their data:\n",
      "for line in lines:\n",
      "    # There are some unwanted lines in the file, let's skip those:\n",
      "    if (line.startswith(' ') or line.isspace() or line.startswith('Species') or line.startswith('Source') or line.startswith('-')):\n",
      "        continue\n",
      "    # Here we can make the same assumption as previously: The relevant data always starts at the same position/column in the file, e.g. 'Species' at the beginning of a line, 'when' at position 21, height at position 37, weight at position 50, and brain volume at position 62:\n",
      "\n",
      "    species = line[0:20].strip() # getting species string, and removing trailing spaces from the string!\n",
      "    when = line[21:36].strip()\n",
      "    height = line[37:49].strip()\n",
      "    weight = line[50:61].strip()\n",
      "    brain = line[62:].strip()\n",
      "    # Now store that information as a nested dictionary:\n",
      "    humans[species] = {'when' : when, 'height' : height, 'weight' : weight, 'brain' : brain}\n",
      "\n",
      "# Printing out the assembled dictionary in a nice way:\n",
      "for key in humans:\n",
      "    # length of the first column should be 20 characters long. Thus compute the lenght of key and add 20-len(key) spaces to it\n",
      "    outputline = key + (25 - len(key))*' '\n",
      "    for innerkey in humans[key]:\n",
      "        # for each innerkey, at the value to outputline, plus additional spaces\n",
      "        outputline = outputline + humans[key][innerkey] + (28 - len(humans[key][innerkey]))*' '\n",
      "    # The outputline has been assembled at this point, so print it:\n",
      "    print outputline\n",
      ""
     ],
     "language": "python",
     "metadata": {},
     "outputs": []
    }
   ],
   "metadata": {}
  }
 ]
}