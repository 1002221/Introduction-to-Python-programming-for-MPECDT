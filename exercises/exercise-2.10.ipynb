{
 "metadata": {
  "name": ""
 },
 "nbformat": 3,
 "nbformat_minor": 0,
 "worksheets": [
  {
   "cells": [
    {
     "cell_type": "code",
     "collapsed": false,
     "input": [
      "# Initialization:\n",
      "h = 0.01\n",
      "# x values (by using a list comprehension):\n",
      "x = [1+i*h for i in range(0, 101, 1)]\n",
      "\n",
      "print 'x values between 1 and 2:'\n",
      "print x"
     ],
     "language": "python",
     "metadata": {},
     "outputs": []
    }
   ],
   "metadata": {}
  }
 ]
}