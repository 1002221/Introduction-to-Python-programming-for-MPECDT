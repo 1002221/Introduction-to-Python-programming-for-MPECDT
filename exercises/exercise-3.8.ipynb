{
 "metadata": {
  "name": ""
 },
 "nbformat": 3,
 "nbformat_minor": 0,
 "worksheets": [
  {
   "cells": [
    {
     "cell_type": "code",
     "collapsed": false,
     "input": [
      "import sys # needed to get command-line arguments!\n",
      "# Get values from the command-line:\n",
      "try:\n",
      "    t = float(sys.argv[1])\n",
      "except IndexError:\n",
      "    t = float(raw_input('t=?'))\n",
      "try:\n",
      "    v0 = float(sys.argv[2])\n",
      "except IndexError:\n",
      "    v0 = float(raw_input('v0=?'))\n",
      "\n",
      "g = 9.81 # gravitational acceleration\n",
      "y = v0*t - 0.5*g*t**2\n",
      "print y"
     ],
     "language": "python",
     "metadata": {},
     "outputs": []
    }
   ],
   "metadata": {}
  }
 ]
}