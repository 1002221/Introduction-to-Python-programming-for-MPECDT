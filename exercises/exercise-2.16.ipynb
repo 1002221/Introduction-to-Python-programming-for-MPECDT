{
 "metadata": {
  "name": ""
 },
 "nbformat": 3,
 "nbformat_minor": 0,
 "worksheets": [
  {
   "cells": [
    {
     "cell_type": "code",
     "collapsed": false,
     "input": [
      "q = [['a', 'b', 'c'], ['d', 'e', 'f'], ['g', 'h']]\n",
      "for i in q:\n",
      "    print "i = ", i\n",
      "    print "type of i: ", type(i)\n",
      "    for j in range(len(i)) :\n",
      "        print "j = ", j\n",
      "        print "type of j: ", type(j)\n",
      "        print i[j]"
     ],
     "language": "python",
     "metadata": {},
     "outputs": []
    }
   ],
   "metadata": {}
  }
 ]
}