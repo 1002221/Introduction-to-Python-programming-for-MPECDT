{
 "metadata": {
  "name": ""
 },
 "nbformat": 3,
 "nbformat_minor": 0,
 "worksheets": [
  {
   "cells": [
    {
     "cell_type": "code",
     "collapsed": false,
     "input": [
      "from pylab import *\n",
      "\n",
      "# Open file (assuming the file was copied into the same directory as this python file):\n",
      "filename = 'constants.txt' # get the filename via a command-line argument\n",
      "infile = open(filename, 'r') # opening the above specified file in reading ('r') mode\n",
      "\n",
      "# Initialise an empty dictionary first:\n",
      "dict = {}\n",
      "# Now skip the first two lines of the file:\n",
      "line = infile.readline()\n",
      "line = infile.readline()\n",
      "\n",
      "# Now loop over the remaining lines and process their data:\n",
      "for line in infile:\n",
      "    # Now, there are many ways to solve this, one is to split this line each time there are two spaces in a row, and then only extracting those elements that are not empyt. However, this might be confusing and cumbersome. Thus let us make the valid assumption that the first column of the file starts at position 0, the second one at position 27, and the third one at position 46. Also, getting rid of leading and trailing spaces (with 'strip()'):\n",
      "    # So, define the key of the dictionary...\n",
      "    key = line[0:26].strip()\n",
      "    # ... and its value:\n",
      "    value = line[27:45].strip()\n",
      "    # Now store key and its value in the dictionary:\n",
      "    dict.update({ key : value })\n",
      "\n",
      "# Printing out the assembled dictionary:\n",
      "print "dict: ", dict\n",
      "\n",
      "# We are done processing the file, so close it:\n",
      "infile.close()"
     ],
     "language": "python",
     "metadata": {},
     "outputs": []
    }
   ],
   "metadata": {}
  }
 ]
}