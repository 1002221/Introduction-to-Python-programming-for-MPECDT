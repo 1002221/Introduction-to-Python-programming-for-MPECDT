{
 "metadata": {
  "name": ""
 },
 "nbformat": 3,
 "nbformat_minor": 0,
 "worksheets": [
  {
   "cells": [
    {
     "cell_type": "code",
     "collapsed": false,
     "input": [
      "from math import sqrt, exp, pi\n",
      "# Function to compute:\n",
      "def h_func(x):\n",
      "    return 1.0/sqrt(2*pi) * exp(-1.0/2 * x**2)\n",
      "\n",
      "# Main program, initialization:\n",
      "start=-4.0; end=4.0 # min/max x values\n",
      "n = 9 # 9, because it is -4, -3, ..., 0, ..., 4\n",
      "dx = (end-start)/(n-1)\n",
      "# x values:\n",
      "xlist = [i*dx+start for i in range(n)] # here: start=-4\n",
      "# h values:\n",
      "hlist = [h_func(x) for x in xlist]\n",
      "pairs = [[x,y] for x, y in zip(xlist, hlist)]\n",
      "print pairs"
     ],
     "language": "python",
     "metadata": {},
     "outputs": []
    }
   ],
   "metadata": {}
  }
 ]
}