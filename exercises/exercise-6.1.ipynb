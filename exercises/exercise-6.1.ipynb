{
 "metadata": {
  "name": ""
 },
 "nbformat": 3,
 "nbformat_minor": 0,
 "worksheets": [
  {
   "cells": [
    {
     "cell_type": "code",
     "collapsed": false,
     "input": [
      "from pylab import *\n",
      "\n",
      "# Open file (assuming the file was copied into the same directory as this python file):\n",
      "filename = 'xy.dat' # filename is a variable, which holds the string 'xy.dat', whereas 'xy.dat' is the filename of the file we want to open\n",
      "infile = open(filename, 'r') # opening the above specified file in reading ('r') mode\n",
      "lines = infile.readlines() # lines is a list with as many elements as there are lines in the file\n",
      "infile.close() # since the whole content of the file is stored in 'lines', we can close the file now, and process its content below\n",
      "\n",
      "# Processing lines (content of the file):\n",
      "x = []; y = []\n",
      "for line in lines:\n",
      "    # splitting the line each time there is white space in the line. white space is either a SPACE, or TAB, or ENTER (newline character):\n",
      "    numbers = line.split() # numbers is a list of 2 elements\n",
      "    x.append(float(numbers[0])) # first element of numbers refers to the first column in the file (x-values)\n",
      "    y.append(float(numbers[1])) # second element of numbers refers to the second column in the file (y-values)\n",
      "\n",
      "# After the for loop, all values for x and y have been appended to the lists 'x', and 'y'. Now convert them into arrays:\n",
      "x = array(x)\n",
      "y = array(y)\n",
      "\n",
      "# Plot:\n",
      "plot(x,y) # generating the plot\n",
      "xlabel('x') # defining the label for the x-axis\n",
      "ylabel('y') # defining the label for the y-axis\n",
      "show() # showing the plot"
     ],
     "language": "python",
     "metadata": {},
     "outputs": []
    }
   ],
   "metadata": {}
  }
 ]
}