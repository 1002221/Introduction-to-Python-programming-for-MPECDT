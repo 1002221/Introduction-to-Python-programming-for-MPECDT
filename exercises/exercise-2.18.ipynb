{
 "metadata": {
  "name": ""
 },
 "nbformat": 3,
 "nbformat_minor": 0,
 "worksheets": [
  {
   "cells": [
    {
     "cell_type": "code",
     "collapsed": false,
     "input": [
      "from math import *\n",
      "\n",
      "def pathlength(x, y):\n",
      "    L = 0\n",
      "    # Loop for i=1, ..., n-1, with n being the amount of positions:\n",
      "    n = len(x)\n",
      "    for i in range(1, n, 1):\n",
      "        L = L + sqrt( (x[i] - x[i-1])**2 + (y[i] - y[i-1])**2 )\n",
      "    return L\n",
      "\n",
      "# Initialisation:\n",
      "x = [1, 2, 1, 1] # x values\n",
      "y = [1, 1, 2, 1] # y values\n",
      "L = pathlength(x,y) # computing the pathlength\n",
      "# Output:\n",
      "print "L = %g" % L"
     ],
     "language": "python",
     "metadata": {},
     "outputs": []
    }
   ],
   "metadata": {}
  }
 ]
}