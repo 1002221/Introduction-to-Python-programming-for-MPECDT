{
 "metadata": {
  "name": ""
 },
 "nbformat": 3,
 "nbformat_minor": 0,
 "worksheets": [
  {
   "cells": [
    {
     "cell_type": "code",
     "collapsed": false,
     "input": [
      "# Get values from user input:\n",
      "t = input('t=?')\n",
      "v0 = input('v0=?')\n",
      "g = 9.81 # gravitational acceleration\n",
      "y = v0*t - 0.5*g*t**2\n",
      "print y"
     ],
     "language": "python",
     "metadata": {},
     "outputs": []
    }
   ],
   "metadata": {}
  }
 ]
}