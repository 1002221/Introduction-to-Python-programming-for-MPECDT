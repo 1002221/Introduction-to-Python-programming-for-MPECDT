{
 "metadata": {
  "name": ""
 },
 "nbformat": 3,
 "nbformat_minor": 0,
 "worksheets": [
  {
   "cells": [
    {
     "cell_type": "code",
     "collapsed": false,
     "input": [
      "from numpy import *\n",
      "\n",
      "def maxmin(f, a, b, n=1000):\n",
      "    x = linspace(a, b, n) # generate points for x\n",
      "    # Use the 'eval' function to compute the given function in the string 'f':\n",
      "    # As stated in the exercise, 'cos' should be given to the function 'maxmin',\n",
      "    # thus in order to use 'eval', we have to extend f with '(x)'\n",
      "    # such that cos(x) is given to the function 'eval', and hence 'cos(x)'\n",
      "    # is computed. Otherwise, only 'cos' would be given to 'eval', which\n",
      "    # simply results in an error:\n",
      "    y = eval(f+'(x)') # compute y values of function 'f'\n",
      "    minf = min(y)# compute min value of y\n",
      "    maxf = max(y)# compute max value of y\n",
      "    return (maxf, minf)\n",
      "\n",
      "print maxmin('cos', -pi/2, 2*pi)"
     ],
     "language": "python",
     "metadata": {},
     "outputs": []
    }
   ],
   "metadata": {}
  }
 ]
}