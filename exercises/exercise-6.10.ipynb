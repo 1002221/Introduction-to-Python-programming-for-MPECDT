{
 "metadata": {
  "name": ""
 },
 "nbformat": 3,
 "nbformat_minor": 0,
 "worksheets": [
  {
   "cells": [
    {
     "cell_type": "code",
     "collapsed": false,
     "input": [
      "\n",
      "# This is the function copied from Chapter 6.2.4\n",
      "def read_densities(filename):\n",
      "    infile = open(filename, 'r')\n",
      "    densities = {}\n",
      "    for line in infile:\n",
      "        words = line.split()\n",
      "        density = float(words[-1])\n",
      "        if len (words[:-1]) == 2:\n",
      "            substance = words[0] + ' ' + words[1]\n",
      "        else:\n",
      "            substance = words[0]\n",
      "        densities[substance] = density\n",
      "    infile.close ()\n",
      "    return densities\n",
      "\n",
      "# This is our new, more generic and shorter function:\n",
      "def read_densities_improved(filename):\n",
      "    infile = open(filename, 'r')\n",
      "    densities = {}\n",
      "    for line in infile:\n",
      "        words = line.split()\n",
      "        # density is always the last element of words:\n",
      "        density = float(words[-1])\n",
      "        # substance is from the first element of 'words' until (and excluding) the last element of words:\n",
      "        substance = ' '.join(words[0:-1]) # No need to strip here, as the trailing spaces are already removed due to splitting the line at (white) spaces!\n",
      "        densities[substance] = density # adding key and corresponding value to the dictionary\n",
      "    infile.close() # done processing, thus closing the file\n",
      "    return densities\n",
      "\n",
      "# Calling the function from Chapter 6.2.4:\n",
      "densities = read_densities('densities.dat')\n",
      "# Calling our own function:\n",
      "densities_improved = read_densities_improved('densities.dat')\n",
      "# Output:\n",
      "print densities\n",
      "print densities_improved\n",
      "# Checking if both dictionaries are equal:\n",
      "print 'Dictionaries are equal: ', densities == densities_improved"
     ],
     "language": "python",
     "metadata": {},
     "outputs": []
    }
   ],
   "metadata": {}
  }
 ]
}