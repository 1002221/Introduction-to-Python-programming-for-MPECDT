{
 "metadata": {
  "name": ""
 },
 "nbformat": 3,
 "nbformat_minor": 0,
 "worksheets": [
  {
   "cells": [
    {
     "cell_type": "code",
     "collapsed": false,
     "input": [
      "import sys\n",
      "from pylab import *\n",
      "\n",
      "# Open file:\n",
      "filename = sys.argv[1] # get the filename via a command-line argument\n",
      "infile = open(filename, 'r') # opening the above specified file in reading ('r') mode\n",
      "lines = infile.readlines() # lines is a list with as many elements as there are lines in the file\n",
      "infile.close() # since the whole content of the file is stored in 'lines', we can close the file now, and process its content below\n",
      "\n",
      "# Processing lines (content of the file):\n",
      "temp = []; density = []\n",
      "for line in lines:\n",
      "    # Now, as stated in the exercise, some of the lines in the datafile start with a '#' character, some other lines are completely empty, and then there are some lines that contain two numbers, the first is supposed to be the temperature and the second one is the corresponding density.\n",
      "    # Below we find out if the current 'line' starts with a '#' OR the line is empty:\n",
      "    if (line.startswith('#') or line.isspace()):\n",
      "        # Then, 'continue', which means we start the next iteration of the for loop immediately, thus skipping this line and moving on to the next line.\n",
      "        continue\n",
      "    # At this point, the line must be a line that contains data, hence extract the numbers and append them to the lists:\n",
      "    numbers = line.split()\n",
      "    temp.append(float(numbers[0]))\n",
      "    density.append(float(numbers[1]))\n",
      "\n",
      "# Converting the assembled lists into arrays:\n",
      "temp = array(temp)\n",
      "density = array(density)\n",
      "\n",
      "# Plot\n",
      "plot(temp, density, 'o') # using little circles for the data points ('o')\n",
      "xlabel('Temperature')\n",
      "ylabel('Density')\n",
      "show()"
     ],
     "language": "python",
     "metadata": {},
     "outputs": []
    }
   ],
   "metadata": {}
  }
 ]
}