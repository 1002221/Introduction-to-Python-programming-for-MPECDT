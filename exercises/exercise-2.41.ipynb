{
 "metadata": {
  "name": ""
 },
 "nbformat": 3,
 "nbformat_minor": 0,
 "worksheets": [
  {
   "cells": [
    {
     "cell_type": "code",
     "collapsed": false,
     "input": [
      "def mysum(list):\n",
      "    # This function takes in a list, and computes the sum of all its elements\n",
      "    sum = 0 # Initially, sum is set to 0\n",
      "    # Start computing the sum by looping over all the elements in 'list':\n",
      "    for i in list:\n",
      "        sum = sum + i\n",
      "    return sum\n",
      "\n",
      "# This is where the main program starts:\n",
      "numbers = [1, -4, 22, 8, -16]\n",
      "# Compute sum:\n",
      "print "Mysum gives: %g" % mysum(numbers)\n",
      "print "Sum gives: %g" % sum(numbers)"
     ],
     "language": "python",
     "metadata": {},
     "outputs": []
    }
   ],
   "metadata": {}
  }
 ]
}