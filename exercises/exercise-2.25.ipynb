{
 "metadata": {
  "name": ""
 },
 "nbformat": 3,
 "nbformat_minor": 0,
 "worksheets": [
  {
   "cells": [
    {
     "cell_type": "code",
     "collapsed": false,
     "input": [
      "from math import exp, sqrt, pi\n",
      "\n",
      "def gauss(x, m=0, s=1):\n",
      "    return 1.0/(sqrt(2*pi)*s) * exp(-0.5 * ((x-m)/float(s))**2)\n",
      "\n",
      "# Initialisation:\n",
      "x = range(-5, 6, 1)\n",
      "# Compute y values:\n",
      "y = []\n",
      "for i in x:\n",
      "    y.append(gauss(i, s=1.5))\n",
      "\n",
      "# Output results:\n",
      "print x\n",
      "print y\n",
      "print '3rd element of x = %.2f' % x[2]"
     ],
     "language": "python",
     "metadata": {},
     "outputs": []
    }
   ],
   "metadata": {}
  }
 ]
}