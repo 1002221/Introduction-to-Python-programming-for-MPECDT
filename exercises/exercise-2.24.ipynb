{
 "metadata": {
  "name": ""
 },
 "nbformat": 3,
 "nbformat_minor": 0,
 "worksheets": [
  {
   "cells": [
    {
     "cell_type": "code",
     "collapsed": false,
     "input": [
      "# Function to compute the sum:\n",
      "def s(M):\n",
      "    # Initialization:\n",
      "    s = 0; k = 1\n",
      "    # Computing the sum up until M:\n",
      "    while k <= M:\n",
      "        s += 1.0/k # s being the sum that we keep increasing by 1/k\n",
      "        k += 1 # increasing k by 1\n",
      "    # Return the computed sum:\n",
      "    return s\n",
      "\n",
      "# Main program:\n",
      "M = 100\n",
      "sum = s(M)\n",
      "print 'The sum is: %.10f' % sum"
     ],
     "language": "python",
     "metadata": {},
     "outputs": []
    }
   ],
   "metadata": {}
  }
 ]
}