{
 "metadata": {
  "name": ""
 },
 "nbformat": 3,
 "nbformat_minor": 0,
 "worksheets": [
  {
   "cells": [
    {
     "cell_type": "code",
     "collapsed": false,
     "input": [
      "# Initialization:\n",
      "# Our starting value is 1:\n",
      "x = 1\n",
      "# The final value:\n",
      "n = 11\n",
      "# Increment:\n",
      "dn = 2\n",
      "# Create a list with all odd numbers between x and n\n",
      "# by using the range function:\n",
      "odd_numbers = range(x, n+1, dn)\n",
      "\n",
      "print odd_numbers"
     ],
     "language": "python",
     "metadata": {},
     "outputs": []
    }
   ],
   "metadata": {}
  }
 ]
}