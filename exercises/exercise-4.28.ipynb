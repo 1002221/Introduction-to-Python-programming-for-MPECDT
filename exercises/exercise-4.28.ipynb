{
 "metadata": {
  "name": ""
 },
 "nbformat": 3,
 "nbformat_minor": 0,
 "worksheets": [
  {
   "cells": [
    {
     "cell_type": "code",
     "collapsed": false,
     "input": [
      "from math import exp\n",
      "from numpy import *\n",
      "\n",
      "# Function from exercise 4.4:\n",
      "def f_func(x):\n",
      "    return x**3 + x*exp(x) + 1\n",
      "\n",
      "# Define two-dimensional array:\n",
      "A = array([ [0, 12, -1],\n",
      "            [-1, -1, -1],\n",
      "            [11, 5, 5] ])\n",
      "# Apply f to each element in A\n",
      "# A is a two-dimensional array, thus one element of A is a one-dimensional array\n",
      "# Create array full of zeros:\n",
      "y_a = zeros([3,3])\n",
      "i = 0 # i is the index\n",
      "for a in A:\n",
      "    # storing the result of the function in the i-th element of y_a:\n",
      "    y_a[i] = f_func(a)\n",
      "    i = i+1 # increasing the index by 1\n",
      "# Now apply the whole two-dimensional array A to the function f:\n",
      "y_A = f_func(A)\n",
      "\n",
      "# Output:\n",
      "# Print one element at a time and compare the values of y_a and y_A:\n",
      "for i in range(len(y_a)):\n",
      "    for j in range(len(y_a[0])):\n",
      "        print '(y_a[%g][%g], y_A[%g][%g]) = %g, %g' % (i, j, i, j, y_a[i][j], y_A[i][j])"
     ],
     "language": "python",
     "metadata": {},
     "outputs": []
    }
   ],
   "metadata": {}
  }
 ]
}