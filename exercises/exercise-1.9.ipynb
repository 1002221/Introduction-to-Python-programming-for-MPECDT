{
 "metadata": {
  "name": ""
 },
 "nbformat": 3,
 "nbformat_minor": 0,
 "worksheets": [
  {
   "cells": [
    {
     "cell_type": "code",
     "collapsed": false,
     "input": [
      "from math import pi, sqrt, exp\n",
      "\n",
      "# Initialization:\n",
      "m = 0.0\n",
      "s = 2.0\n",
      "x = 1.0\n",
      "\n",
      "# Gaussian function:\n",
      "f = 1.0/(sqrt(2*pi)*s) * exp(-1.0/2 * ((x-m)/s)**2 )\n",
      "\n",
      "print f"
     ],
     "language": "python",
     "metadata": {},
     "outputs": []
    }
   ],
   "metadata": {}
  }
 ]
}