{
 "metadata": {
  "name": ""
 },
 "nbformat": 3,
 "nbformat_minor": 0,
 "worksheets": [
  {
   "cells": [
    {
     "cell_type": "code",
     "collapsed": false,
     "input": [
      "# Initialization:\n",
      "h = 0.01\n",
      "# x values (empty list initially):\n",
      "x = []\n",
      "\n",
      "for i in range(0, 101, 1):\n",
      "    # Computing the x value, and appending it to the list 'x':\n",
      "    x.append(1 + i*h)\n",
      "\n",
      "print 'x values between 1 and 2:'\n",
      "print x"
     ],
     "language": "python",
     "metadata": {},
     "outputs": []
    }
   ],
   "metadata": {}
  }
 ]
}