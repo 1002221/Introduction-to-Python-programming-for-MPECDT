{
 "metadata": {
  "name": ""
 },
 "nbformat": 3,
 "nbformat_minor": 0,
 "worksheets": [
  {
   "cells": [
    {
     "cell_type": "code",
     "collapsed": false,
     "input": [
      "a = 2; b = 1; c = 2\n",
      "from math import sqrt\n",
      "try:\n",
      "    q = sqrt(b*b - 4*a*c)\n",
      "except ValueError:\n",
      "    print "Unable to compute the square root of %g" % (b*b - 4*a*c)\n",
      "    exit()\n",
      "except:\n",
      "    print "Unknown Exception caught. Exit program."\n",
      "    exit()\n",
      "\n",
      "# If the square root was successfully computed, continue with the program:\n",
      "x1 = (-b + q)/2*a\n",
      "x2 = (-b - q)/2*a\n",
      "print x1 , x2"
     ],
     "language": "python",
     "metadata": {},
     "outputs": []
    }
   ],
   "metadata": {}
  }
 ]
}