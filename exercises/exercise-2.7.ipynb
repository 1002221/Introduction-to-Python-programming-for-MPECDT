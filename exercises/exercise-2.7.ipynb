{
 "metadata": {
  "name": ""
 },
 "nbformat": 3,
 "nbformat_minor": 0,
 "worksheets": [
  {
   "cells": [
    {
     "cell_type": "code",
     "collapsed": false,
     "input": [
      "# Initialisation:\n",
      "t = [0.1, 0.2, 0.3, 0.4, 0.5, 0.6]\n",
      "v0 = 0.3\n",
      "g = 9.81\n",
      "# Compute ball trajectory for values in t and store them in a list 'y':\n",
      "y = []\n",
      "for i in t:\n",
      "    y.append(v0*i - 0.5*9.81*i**2)\n",
      "\n",
      "# Print results\n",
      "print t\n",
      "print y"
     ],
     "language": "python",
     "metadata": {},
     "outputs": []
    }
   ],
   "metadata": {}
  }
 ]
}