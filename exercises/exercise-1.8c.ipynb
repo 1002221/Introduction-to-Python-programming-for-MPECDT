{
 "metadata": {
  "name": ""
 },
 "nbformat": 3,
 "nbformat_minor": 0,
 "worksheets": [
  {
   "cells": [
    {
     "cell_type": "code",
     "collapsed": false,
     "input": [
      "a = 3.3\n",
      "b = 5.3\n",
      "a2 = a**2\n",
      "b2 = b**2\n",
      "\n",
      "eq1_sum = a2 + 2*a*b + b2\n",
      "eq2_sum = a2 - 2*a*b + b2\n",
      "\n",
      "eq1_pow = (a + b)**2\n",
      "eq2_pow = (a - b)**2\n",
      "\n",
      "print 'First equation: %g = %g' % (eq1_sum, eq1_pow)\n",
      "print 'Second equation: %g = %g' % (eq2_sum, eq2_pow)"
     ],
     "language": "python",
     "metadata": {},
     "outputs": []
    }
   ],
   "metadata": {}
  }
 ]
}