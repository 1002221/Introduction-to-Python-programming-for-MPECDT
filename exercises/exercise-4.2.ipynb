{
 "metadata": {
  "name": ""
 },
 "nbformat": 3,
 "nbformat_minor": 0,
 "worksheets": [
  {
   "cells": [
    {
     "cell_type": "code",
     "collapsed": false,
     "input": [
      "from math import sqrt, exp, pi\n",
      "from numpy import *\n",
      "# Function to compute:\n",
      "def h_func(x):\n",
      "    return 1.0/sqrt(2*pi) * exp(-1.0/2 * x**2)\n",
      "\n",
      "# Main program, initialization:\n",
      "start=-4.0; end=4.0 # min/max x values\n",
      "n = 9 # 9 values for x and h\n",
      "dx = (end-start)/(n-1)\n",
      "# Initialize arrays with zeros:\n",
      "x = zeros(n); h = zeros(n)\n",
      "# Compute x- and h-values in a for-loop:\n",
      "for i in range(n):\n",
      "    x[i] = i*dx+start # x-value\n",
      "    # pass the i-th x value (that we just computed above) to the function 'h_func':\n",
      "    h[i] = h_func(x[i]) # h-value\n",
      "# Output:\n",
      "print 'x = ', x\n",
      "print 'h = ', h"
     ],
     "language": "python",
     "metadata": {},
     "outputs": []
    }
   ],
   "metadata": {}
  }
 ]
}