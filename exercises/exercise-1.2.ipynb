{
 "metadata": {
  "name": ""
 },
 "nbformat": 3,
 "nbformat_minor": 0,
 "worksheets": [
  {
   "cells": [
    {
     "cell_type": "code",
     "collapsed": false,
     "input": [
      "# In order to print text/numbers/or simply the value of defined variables, we use the 'print' statement in python. Since we simply want to print out some text, we put (either single or double) quotation marks around the text:\n",
      "print 'Hello, World!'"
     ],
     "language": "python",
     "metadata": {},
     "outputs": []
    }
   ],
   "metadata": {}
  }
 ]
}