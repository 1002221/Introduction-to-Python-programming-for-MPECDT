{
 "metadata": {
  "name": ""
 },
 "nbformat": 3,
 "nbformat_minor": 0,
 "worksheets": [
  {
   "cells": [
    {
     "cell_type": "code",
     "collapsed": false,
     "input": [
      "from math import *\n",
      "\n",
      "# Same function as in exercise 2.18:\n",
      "def pathlength(x, y):\n",
      "    L = 0\n",
      "    # Loop for i=1, ..., n-1, with n being the amount of positions:\n",
      "    n = len(x)\n",
      "    for i in range(1, n, 1):\n",
      "        L = L + sqrt( (x[i] - x[i-1])**2 + (y[i] - y[i-1])**2 )\n",
      "    return L\n",
      "\n",
      "# k should be a list (we shall call it 'klist'), and for each element of klist, we compute N,\n",
      "# and thus the number of points for x and y are increased as k increases:\n",
      "klist = [2,3,4,5,6,7,8,9,10]\n",
      "for k in klist:\n",
      "    print "-----------------------------------------------"\n",
      "    # Compute N based on k:\n",
      "    N = 2**k\n",
      "    print "N = ", N\n",
      "    # x values:\n",
      "    x = [0.5*cos(2*pi*i/N) for i in range(N+1)]\n",
      "    # y values:\n",
      "    y = [0.5*sin(2*pi*i/N) for i in range(N+1)]\n",
      "    # Finally, compute the pathlength of the circle:\n",
      "    L = pathlength(x,y)\n",
      "    # Compute and print out error of the approximation L to pi:\n",
      "    error = pi - L\n",
      "    print "error: (pi - L) = ", error"
     ],
     "language": "python",
     "metadata": {},
     "outputs": []
    }
   ],
   "metadata": {}
  }
 ]
}