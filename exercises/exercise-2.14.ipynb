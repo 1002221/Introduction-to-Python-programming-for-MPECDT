{
 "metadata": {
  "name": ""
 },
 "nbformat": 3,
 "nbformat_minor": 0,
 "worksheets": [
  {
   "cells": [
    {
     "cell_type": "code",
     "collapsed": false,
     "input": [
      "# Initialization:\n",
      "s = 0; M = 100;\n",
      "\n",
      "# Computing the sum of 1/k, for k=1,...,M (that includes M):\n",
      "for k in range(1, M+1, 1): # M+1, in order to include M\n",
      "    s += 1.0/k # s being the sum that we keep increasing by 1/k\n",
      "    k += 1 # increasing k by 1\n",
      "\n",
      "print 'The sum is: %.10f' % s"
     ],
     "language": "python",
     "metadata": {},
     "outputs": []
    }
   ],
   "metadata": {}
  }
 ]
}