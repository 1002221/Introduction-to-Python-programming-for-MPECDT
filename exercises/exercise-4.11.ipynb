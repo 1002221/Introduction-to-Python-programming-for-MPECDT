{
 "metadata": {
  "name": ""
 },
 "nbformat": 3,
 "nbformat_minor": 0,
 "worksheets": [
  {
   "cells": [
    {
     "cell_type": "code",
     "collapsed": false,
     "input": [
      "from pylab import *\n",
      "\n",
      "def f(x, t):\n",
      "    return exp(-(x-3*t)**2) * sin(3*pi*(x-t))\n",
      "\n",
      "# Start of the main program:\n",
      "# Initialisation:\n",
      "t = 1\n",
      "x = linspace(-4, 4, 500)\n",
      "# Computing the function f:\n",
      "y = f(x,t)\n",
      "# Plotting the results:\n",
      "plot(x,y, label='f(x,t) = exp(-(x-3*t)**2) * sin(3*pi*(x-t))')\n",
      "legend() # show the legend in the plot\n",
      "#savefig('plot_wavepacket.png') # saving the plot\n",
      "#savefig('plot_wavepacket_without_legend.png') # saving the plot\n",
      "savefig('plot_wavepacket_t1.png') # saving the plot\n",
      "show() # show the plot"
     ],
     "language": "python",
     "metadata": {},
     "outputs": []
    }
   ],
   "metadata": {}
  }
 ]
}