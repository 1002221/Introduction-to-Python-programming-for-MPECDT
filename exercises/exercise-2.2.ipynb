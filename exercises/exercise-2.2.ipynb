{
 "metadata": {
  "name": ""
 },
 "nbformat": 3,
 "nbformat_minor": 0,
 "worksheets": [
  {
   "cells": [
    {
     "cell_type": "code",
     "collapsed": false,
     "input": [
      "# Initialization:\n",
      "# Our starting value is 1:\n",
      "x = 1\n",
      "# The final value:\n",
      "n = 11\n",
      "# By increasing 1 by 2, we get the next odd number '3',\n",
      "# increasing '3' by 2, we get the next odd number '5', ...\n",
      "dn = 2\n",
      "\n",
      "while x <= n:\n",
      "    print x\n",
      "    x = x + dn"
     ],
     "language": "python",
     "metadata": {},
     "outputs": []
    }
   ],
   "metadata": {}
  }
 ]
}