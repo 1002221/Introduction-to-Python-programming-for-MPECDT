{
 "metadata": {
  "name": ""
 },
 "nbformat": 3,
 "nbformat_minor": 0,
 "worksheets": [
  {
   "cells": [
    {
     "cell_type": "code",
     "collapsed": false,
     "input": [
      "import sys\n",
      "# Get Fahrenheit degrees from the command-line:\n",
      "F = sys.argv[1]\n",
      "# Convert F into a 'float'\n",
      "F = float(F)\n",
      "# Compute C:\n",
      "C = (F - 32.0) * 5.0/9.0\n",
      "# Output:\n",
      "print 'Celsius degrees: %g' % C"
     ],
     "language": "python",
     "metadata": {},
     "outputs": []
    }
   ],
   "metadata": {}
  }
 ]
}