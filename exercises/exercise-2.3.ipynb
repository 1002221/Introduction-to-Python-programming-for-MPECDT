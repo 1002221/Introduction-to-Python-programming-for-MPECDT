{
 "metadata": {
  "name": ""
 },
 "nbformat": 3,
 "nbformat_minor": 0,
 "worksheets": [
  {
   "cells": [
    {
     "cell_type": "code",
     "collapsed": false,
     "input": [
      "# Initialization:\n",
      "# Our starting value is 1:\n",
      "x = 1\n",
      "# The final value:\n",
      "n = 11\n",
      "# Increment:\n",
      "dn = 2\n",
      "# Create a list to store the odd numbers in:\n",
      "odd_numbers = []\n",
      "\n",
      "while x <= n:\n",
      "    odd_numbers.append(x)\n",
      "    x = x + dn\n",
      "print odd_numbers"
     ],
     "language": "python",
     "metadata": {},
     "outputs": []
    }
   ],
   "metadata": {}
  }
 ]
}