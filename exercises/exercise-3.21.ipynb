{
 "metadata": {
  "name": ""
 },
 "nbformat": 3,
 "nbformat_minor": 0,
 "worksheets": [
  {
   "cells": [
    {
     "cell_type": "code",
     "collapsed": false,
     "input": [
      "import sys\n",
      "\n",
      "def distance(v0, mu, g=9.81):\n",
      "    return 0.5 * v0**2/(mu*g)\n",
      "\n",
      "# Get v0 and mu from command line\n",
      "v0 = float(sys.argv[1])\n",
      "mu = float(sys.argv[2])\n",
      "\n",
      "# Compute the distance:\n",
      "d = distance(v0, mu)\n",
      "# Output:\n",
      "print v0\n",
      "print d\n",
      ""
     ],
     "language": "python",
     "metadata": {},
     "outputs": []
    }
   ],
   "metadata": {}
  }
 ]
}