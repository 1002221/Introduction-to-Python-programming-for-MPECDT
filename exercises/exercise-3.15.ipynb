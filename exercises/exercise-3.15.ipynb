{
 "metadata": {
  "name": ""
 },
 "nbformat": 3,
 "nbformat_minor": 0,
 "worksheets": [
  {
   "cells": [
    {
     "cell_type": "code",
     "collapsed": false,
     "input": [
      "# Fahrenheit to Celsius:\n",
      "def F2C(F):\n",
      "    C = 5.0/9.0 * (F - 32)\n",
      "    return C\n",
      "# Celsius to Fahrenheit:\n",
      "def C2F(C):\n",
      "    F = 9.0/5.0 * C + 32\n",
      "    return F\n",
      "# Celsius to Kelvin:\n",
      "def C2K(C):\n",
      "    K = C + 273.15\n",
      "    return K\n",
      "# Kelvin to Celsius:\n",
      "def K2C(K):\n",
      "    C = K - 273.15\n",
      "    return C\n",
      "# Kelvin to Fahrenheit:\n",
      "def K2F(K):\n",
      "    F = 9.0/5.0 * (K - 273.15) + 32\n",
      "    return F\n",
      "# Fahrenheit to Kelvin:\n",
      "def F2K(F):\n",
      "    K = 5.0/9.0 * (F - 32) + 273.15\n",
      "    return K"
     ],
     "language": "python",
     "metadata": {},
     "outputs": []
    }
   ],
   "metadata": {}
  }
 ]
}