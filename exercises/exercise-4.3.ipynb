{
 "metadata": {
  "name": ""
 },
 "nbformat": 3,
 "nbformat_minor": 0,
 "worksheets": [
  {
   "cells": [
    {
     "cell_type": "code",
     "collapsed": false,
     "input": [
      "from math import sqrt, exp, pi\n",
      "from numpy import *\n",
      "# Function to compute:\n",
      "def h_func(x):\n",
      "    return 1.0/sqrt(2*pi) * exp(-1.0/2 * x**2)\n",
      "\n",
      "# Main program, initialization:\n",
      "start=-4.0; end=4.0 # min/max x values\n",
      "n = 9 # 9 values for x and h\n",
      "# Linspace function to get x-values directly (as an array):\n",
      "x = linspace(start,end,n)\n",
      "# Passing the whole array x to the function h_func works (because x is of type 'array'):\n",
      "h = h_func(x)\n",
      "\n",
      "# Output:\n",
      "print 'x = ', x\n",
      "print 'h = ', h"
     ],
     "language": "python",
     "metadata": {},
     "outputs": []
    }
   ],
   "metadata": {}
  }
 ]
}