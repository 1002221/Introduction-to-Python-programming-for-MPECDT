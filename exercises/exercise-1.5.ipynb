{
 "metadata": {
  "name": ""
 },
 "nbformat": 3,
 "nbformat_minor": 0,
 "worksheets": [
  {
   "cells": [
    {
     "cell_type": "code",
     "collapsed": false,
     "input": [
      "# Initialization:\n",
      "p = 5.0     # interest rate\n",
      "A = 1000.0  # initial amount of money\n",
      "n = 3.0     # amount of years\n",
      "\n",
      "# Equation to compute the money after n years:\n",
      "money = A * (1 + p/100.0)**n\n",
      "\n",
      "print 'After %g years, %g Euros have grown to %g Euros' % (n, A, money)"
     ],
     "language": "python",
     "metadata": {},
     "outputs": []
    }
   ],
   "metadata": {}
  }
 ]
}