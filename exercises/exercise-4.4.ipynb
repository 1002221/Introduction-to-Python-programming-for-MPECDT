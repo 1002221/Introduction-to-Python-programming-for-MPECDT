{
 "metadata": {
  "name": ""
 },
 "nbformat": 3,
 "nbformat_minor": 0,
 "worksheets": [
  {
   "cells": [
    {
     "cell_type": "code",
     "collapsed": false,
     "input": [
      "from math import exp\n",
      "from numpy import *\n",
      "\n",
      "def f_func(x):\n",
      "    return x**3 + x*exp(x) + 1\n",
      "\n",
      "# Main program:\n",
      "# Initialization:\n",
      "v = array([2, 3, -1])\n",
      "\n",
      "# First, pass each element of v to the function f, and store the result in an array f:\n",
      "f_x = zeros(3)\n",
      "for i in range(3):\n",
      "    f_x[i] = f_func(v[i])\n",
      "\n",
      "# Now compute v**3+v*e**v+1 with the whole array 'v':\n",
      "f_v = v**3 + v*exp(v) + 1\n",
      "\n",
      "# Output both, f_x and f_v and compare them. They should be the same:\n",
      "print 'f_x: ', f_x\n",
      "print 'f_v: ', f_v"
     ],
     "language": "python",
     "metadata": {},
     "outputs": []
    }
   ],
   "metadata": {}
  }
 ]
}