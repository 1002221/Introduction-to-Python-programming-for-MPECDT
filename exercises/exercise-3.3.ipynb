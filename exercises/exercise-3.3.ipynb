{
 "metadata": {
  "name": ""
 },
 "nbformat": 3,
 "nbformat_minor": 0,
 "worksheets": [
  {
   "cells": [
    {
     "cell_type": "code",
     "collapsed": false,
     "input": [
      "import sys\n",
      "try:\n",
      "    # Get Fahrenheit degrees from the command-line:\n",
      "    F = sys.argv[1]\n",
      "except:\n",
      "    # In case no command-line argument was given, print out an appropriate error message and exit the program.\n",
      "    print 'Error: Fahrenheit degrees could not be read in. Please provide a number on the command-line!'\n",
      "    print 'Program will exit now...'\n",
      "    exit()\n",
      "\n",
      "# If command-line argument was read in correctly, continue the program:\n",
      "# Convert F into a 'float'\n",
      "F = float(F)\n",
      "# Compute C:\n",
      "C = (F - 32.0) * 5.0/9.0\n",
      "# Output:\n",
      "print 'Celsius degrees: %g' % C"
     ],
     "language": "python",
     "metadata": {},
     "outputs": []
    }
   ],
   "metadata": {}
  }
 ]
}