{
 "metadata": {
  "name": ""
 },
 "nbformat": 3,
 "nbformat_minor": 0,
 "worksheets": [
  {
   "cells": [
    {
     "cell_type": "code",
     "collapsed": false,
     "input": [
      "import sys # needed to get command-line arguments!\n",
      "# Get values from the command-line:\n",
      "t = float(sys.argv[1])\n",
      "v0 = float(sys.argv[2])\n",
      "g = 9.81 # gravitational acceleration\n",
      "# Check if t is within [0, 2*v0/g]:\n",
      "if (not (0 <= t and t <= 2*v0/g)):\n",
      "    # Give error message and abort execution:\n",
      "    print "Error: t does not lie within 0 and 2*v0/g"\n",
      "    exit()\n",
      "\n",
      "y = v0*t - 0.5*g*t**2\n",
      "print y"
     ],
     "language": "python",
     "metadata": {},
     "outputs": []
    }
   ],
   "metadata": {}
  }
 ]
}