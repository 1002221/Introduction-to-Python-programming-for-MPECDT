{
 "metadata": {
  "name": ""
 },
 "nbformat": 3,
 "nbformat_minor": 0,
 "worksheets": [
  {
   "cells": [
    {
     "cell_type": "code",
     "collapsed": false,
     "input": [
      "from numpy import *\n",
      "from pylab import *\n",
      "\n",
      "A = 2.414*10**(-5)\n",
      "B = 247.8\n",
      "C = 140\n",
      "T = linspace(0, 100, 600)\n",
      "# Convert T to Kelvin:\n",
      "T = T + 273.15\n",
      "\n",
      "# Compute mu:\n",
      "mu = A * 10**(B/(T-C))\n",
      "\n",
      "print "T = ", T\n",
      "print "mu = ", mu\n",
      "\n",
      "plot(T, mu)\n",
      "xlabel('T')\n",
      "ylabel('Viscosity')\n",
      "legend(('Viscosity of water', ))\n",
      "savefig("viscosity-plot.png")\n",
      "show()"
     ],
     "language": "python",
     "metadata": {},
     "outputs": []
    }
   ],
   "metadata": {}
  }
 ]
}