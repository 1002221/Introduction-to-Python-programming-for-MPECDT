{
 "metadata": {
  "name": ""
 },
 "nbformat": 3,
 "nbformat_minor": 0,
 "worksheets": [
  {
   "cells": [
    {
     "cell_type": "code",
     "collapsed": false,
     "input": [
      "# Ask user for input (temperature in Fahrenheit):\n",
      "F = input('Enter a temperature in Fahrenheit: ')\n",
      "# Compute C:\n",
      "C = (F - 32.0) * 5.0/9.0\n",
      "# Output:\n",
      "print 'Celsius degrees: %g' % C"
     ],
     "language": "python",
     "metadata": {},
     "outputs": []
    }
   ],
   "metadata": {}
  }
 ]
}